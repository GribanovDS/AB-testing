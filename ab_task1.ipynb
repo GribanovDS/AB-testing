{
 "cells": [
  {
   "cell_type": "markdown",
   "id": "c939fca3-93f5-4b78-b5d7-7a5273e18bb4",
   "metadata": {
    "tags": []
   },
   "source": [
    "## **Задание 1**\n",
    "В лекции мы выяснили, что при проведении АА-теста было бы здорово убедиться в том, что наша система сплитования работает корректно, и ключевая метрика не отличается между группами не только в конкретно нашем АА-тесте, но и в целом.\n",
    "\n",
    "В идеале было бы здорово провести бесконечное количество АA-тестов и посмотреть, в каком количестве случаем нам удалось отклонить нулевую гипотезу. Если система сплитования работает корректно, то статистически значимые различия между двумя группами встречались бы только в результате случайного ложного срабатывания. Например, если мы отвергаем нулевую гипотезу при условии, что p_value < *0.05*, то только приблизительно в *5%* случаев у нас бы получались статистические значимые различия между 0 и 1 группой.\n",
    "\n",
    "Понятное дело, что на практике провести бесконечное число тестов у нас навряд ли получится, поэтому используется небольшой трюк! Мы будем многократно извлекать подвыборки из наших данных, проводить t-test, и в конце посмотрим, в каком проценте случаев нам удалось отклонить нулевую гипотезу.\n",
    "\n",
    "Итак, что нужно сделать: у нас есть данные АА-теста с ***'2022-01-24' по '2023-01-30'***. Вам нужно сделать симуляцию, как будто мы провели *10000* АА-тестов. На каждой итерации вам нужно сформировать подвыборки без повторения в 500 юзеров из 2 и 3 экспериментальной группы. Провести сравнение этих подвыборок t-testом."
   ]
  },
  {
   "cell_type": "markdown",
   "id": "8d83f6cd-472f-4e03-b354-35b363074c5a",
   "metadata": {},
   "source": [
    "## Подготовка к работе"
   ]
  },
  {
   "cell_type": "code",
   "execution_count": 1,
   "id": "8946dc1c-11c9-4c8d-959d-c0452a2e0b84",
   "metadata": {},
   "outputs": [],
   "source": [
    "# Подгружаем библиотеки и подключаемся к БД\n",
    "import pandas as pd\n",
    "import pandahouse\n",
    "import hashlib\n",
    "import seaborn as sns\n",
    "from scipy import stats\n",
    "\n",
    "connection = {\n",
    "            'host': 'https://clickhouse.lab.karpov.courses',\n",
    "            'database':'simulator_20230220',\n",
    "            'user':'student', \n",
    "            'password':'dpo_python_2020'\n",
    "}\n",
    "\n"
   ]
  },
  {
   "cell_type": "code",
   "execution_count": 4,
   "id": "e93447a8-cae6-4aa3-b92f-f1054359a46e",
   "metadata": {},
   "outputs": [
    {
     "data": {
      "text/html": [
       "<div>\n",
       "<style scoped>\n",
       "    .dataframe tbody tr th:only-of-type {\n",
       "        vertical-align: middle;\n",
       "    }\n",
       "\n",
       "    .dataframe tbody tr th {\n",
       "        vertical-align: top;\n",
       "    }\n",
       "\n",
       "    .dataframe thead th {\n",
       "        text-align: right;\n",
       "    }\n",
       "</style>\n",
       "<table border=\"1\" class=\"dataframe\">\n",
       "  <thead>\n",
       "    <tr style=\"text-align: right;\">\n",
       "      <th></th>\n",
       "      <th>user_id</th>\n",
       "      <th>likes</th>\n",
       "      <th>views</th>\n",
       "      <th>ctr</th>\n",
       "    </tr>\n",
       "    <tr>\n",
       "      <th>exp_group</th>\n",
       "      <th></th>\n",
       "      <th></th>\n",
       "      <th></th>\n",
       "      <th></th>\n",
       "    </tr>\n",
       "  </thead>\n",
       "  <tbody>\n",
       "    <tr>\n",
       "      <th>2</th>\n",
       "      <td>10234</td>\n",
       "      <td>10234</td>\n",
       "      <td>10234</td>\n",
       "      <td>10234</td>\n",
       "    </tr>\n",
       "    <tr>\n",
       "      <th>3</th>\n",
       "      <td>10368</td>\n",
       "      <td>10368</td>\n",
       "      <td>10368</td>\n",
       "      <td>10368</td>\n",
       "    </tr>\n",
       "  </tbody>\n",
       "</table>\n",
       "</div>"
      ],
      "text/plain": [
       "           user_id  likes  views    ctr\n",
       "exp_group                              \n",
       "2            10234  10234  10234  10234\n",
       "3            10368  10368  10368  10368"
      ]
     },
     "execution_count": 4,
     "metadata": {},
     "output_type": "execute_result"
    }
   ],
   "source": [
    "# Создание датафрейма\n",
    "q = \"\"\"\n",
    "SELECT exp_group, \n",
    "    user_id,\n",
    "    sum(action = 'like') as likes,\n",
    "    sum(action = 'view') as views,\n",
    "    likes/views as ctr\n",
    "FROM {db}.feed_actions \n",
    "WHERE toDate(time) >= '2022-01-24' and toDate(time) <= '2023-01-30' \n",
    "    and exp_group in (2,3)\n",
    "GROUP BY exp_group, user_id\n",
    "\"\"\"\n",
    "\n",
    "df = pandahouse.read_clickhouse(q, connection=connection)\n",
    "\n",
    "df.groupby('exp_group').count()"
   ]
  },
  {
   "cell_type": "code",
   "execution_count": 5,
   "id": "13d3283b-2684-4fc9-af7b-cecac6d315e3",
   "metadata": {},
   "outputs": [
    {
     "data": {
      "image/png": "[encoded data removed]",
      "text/plain": [
       "<Figure size 842.4x595.44 with 1 Axes>"
      ]
     },
     "metadata": {},
     "output_type": "display_data"
    }
   ],
   "source": [
    "# Сделаем графики в seaborn покрупнее\n",
    "sns.set(rc={'figure.figsize':(11.7,8.27)})\n",
    "\n",
    "groups = sns.histplot(data = df,\n",
    "                      x = 'ctr',\n",
    "                      hue = 'exp_group',\n",
    "                     palette = ['r', 'b'],\n",
    "                     alpha = 0.5,\n",
    "                     kde = False)\n"
   ]
  },
  {
   "cell_type": "markdown",
   "id": "ba358c5b-f54f-4ac3-8977-449a390e67d8",
   "metadata": {},
   "source": [
    "### Построить гистограмму распределения получившихся 10000 p-values."
   ]
  },
  {
   "cell_type": "code",
   "execution_count": 6,
   "id": "da07cabd-9a54-419e-91ba-867d3e48db14",
   "metadata": {},
   "outputs": [
    {
     "data": {
      "text/html": [
       "<div>\n",
       "<style scoped>\n",
       "    .dataframe tbody tr th:only-of-type {\n",
       "        vertical-align: middle;\n",
       "    }\n",
       "\n",
       "    .dataframe tbody tr th {\n",
       "        vertical-align: top;\n",
       "    }\n",
       "\n",
       "    .dataframe thead th {\n",
       "        text-align: right;\n",
       "    }\n",
       "</style>\n",
       "<table border=\"1\" class=\"dataframe\">\n",
       "  <thead>\n",
       "    <tr style=\"text-align: right;\">\n",
       "      <th></th>\n",
       "      <th>p_values</th>\n",
       "    </tr>\n",
       "  </thead>\n",
       "  <tbody>\n",
       "    <tr>\n",
       "      <th>0</th>\n",
       "      <td>0.527849</td>\n",
       "    </tr>\n",
       "    <tr>\n",
       "      <th>1</th>\n",
       "      <td>0.036912</td>\n",
       "    </tr>\n",
       "    <tr>\n",
       "      <th>2</th>\n",
       "      <td>0.403219</td>\n",
       "    </tr>\n",
       "    <tr>\n",
       "      <th>3</th>\n",
       "      <td>0.398811</td>\n",
       "    </tr>\n",
       "    <tr>\n",
       "      <th>4</th>\n",
       "      <td>0.639713</td>\n",
       "    </tr>\n",
       "  </tbody>\n",
       "</table>\n",
       "</div>"
      ],
      "text/plain": [
       "   p_values\n",
       "0  0.527849\n",
       "1  0.036912\n",
       "2  0.403219\n",
       "3  0.398811\n",
       "4  0.639713"
      ]
     },
     "execution_count": 6,
     "metadata": {},
     "output_type": "execute_result"
    }
   ],
   "source": [
    "data = []\n",
    "\n",
    "for _ in range(10000):\n",
    "\n",
    "    group2 = df[df.exp_group == 2].ctr.sample(500)\n",
    "    group3 = df[df.exp_group == 3].ctr.sample(500)\n",
    "\n",
    "    data.append(stats.ttest_ind(group2,\n",
    "                    group3,\n",
    "                    equal_var=False)[1])\n",
    "    \n",
    "df_p_values = pd.DataFrame(data, columns = ['p_values'])\n",
    "\n",
    "df_p_values.head()"
   ]
  },
  {
   "cell_type": "code",
   "execution_count": 7,
   "id": "31a6430b-288d-4fa0-9fda-1efe927eda51",
   "metadata": {},
   "outputs": [
    {
     "data": {
      "text/plain": [
       "<AxesSubplot:xlabel='p_values', ylabel='Count'>"
      ]
     },
     "execution_count": 7,
     "metadata": {},
     "output_type": "execute_result"
    },
    {
     "data": {
      "image/png": "[encoded data removed]",
      "text/plain": [
       "<Figure size 842.4x595.44 with 1 Axes>"
      ]
     },
     "metadata": {},
     "output_type": "display_data"
    }
   ],
   "source": [
    "sns.histplot(data = df_p_values,\n",
    "             x = 'p_values',\n",
    "             alpha = 0.9,\n",
    "             kde = False)"
   ]
  },
  {
   "cell_type": "markdown",
   "id": "f5d46b7c-d4be-4fb9-a8fd-3617f7cc860f",
   "metadata": {},
   "source": [
    "### Посчитать, какой процент p values оказался меньше либо равен 0.05"
   ]
  },
  {
   "cell_type": "code",
   "execution_count": 8,
   "id": "419f14e7-d236-41db-b9fc-7ad34304f21b",
   "metadata": {},
   "outputs": [
    {
     "name": "stdout",
     "output_type": "stream",
     "text": [
      "У нас получились статистические значимые различия между 2 и 3 группой в 4.51% случаев при уровне значимости 0.05\n"
     ]
    }
   ],
   "source": [
    "print('У нас получились статистические значимые различия между 2 и 3 группой в {}% случаев '\\\n",
    "      'при уровне значимости 0.05'.\\\n",
    "      format(df_p_values.query('p_values < 0.05').count()[0] * 100/\n",
    "             df_p_values.count()[0]))"
   ]
  },
  {
   "cell_type": "markdown",
   "id": "c734c318-9fc7-4243-b8a0-21e623404e9c",
   "metadata": {},
   "source": [
    "### Написать вывод по проведенному АА-тесту, корректно ли работает наша система сплитования."
   ]
  },
  {
   "cell_type": "markdown",
   "id": "4270b135-a21b-43a2-8661-b4811ac79b35",
   "metadata": {},
   "source": [
    "Так как статистически значимые различия получились приблизительно в 5% случаев, то мы отвергаем нулевую гипотезу о том, что различия между 2 и 3 группой есть. \n",
    "Тогда принимаем альтернативную гипотезу о том, что различий между 2 и 3 группой нет. Для убедительности давайте произведем t-тест и тест Манна-Уитни"
   ]
  },
  {
   "cell_type": "markdown",
   "id": "bede6813-aeae-4336-b44c-dd93b5ebef56",
   "metadata": {},
   "source": [
    "### t-тест"
   ]
  },
  {
   "cell_type": "code",
   "execution_count": 12,
   "id": "126858c2-9756-4b42-836e-ab9c9ec64a5b",
   "metadata": {},
   "outputs": [
    {
     "name": "stdout",
     "output_type": "stream",
     "text": [
      "Отличие не покрасилось, p_value = 0.99\n"
     ]
    }
   ],
   "source": [
    "p_value = stats.ttest_ind(df.query('exp_group == 2').ctr,\n",
    "                df[df.exp_group == 3]['ctr'],\n",
    "                equal_var = False)[1]\n",
    "print(\"Отличие не покрасилось, p_value =\" if p_value > 0.05\n",
    "     else \"Отличие покрасилось p_value =\".format(round(p_value,2)), round(p_value,2))"
   ]
  },
  {
   "cell_type": "markdown",
   "id": "623da31d-21d9-435a-b60e-a3aa7fb99061",
   "metadata": {},
   "source": [
    "### тест Манна-Уитни"
   ]
  },
  {
   "cell_type": "code",
   "execution_count": 13,
   "id": "1bf403bd-6812-4b1c-adfc-a369f3f8cedc",
   "metadata": {},
   "outputs": [
    {
     "name": "stdout",
     "output_type": "stream",
     "text": [
      "Отличие не покрасилось, p_value = 0.6979156355781808\n"
     ]
    }
   ],
   "source": [
    "p_value = stats.mannwhitneyu(df.query('exp_group == 2').ctr,\n",
    "                   df[df.exp_group == 3].ctr)[1]\n",
    "print('Отличие не покрасилось, p_value = ' + str(p_value) if p_value > 0.05\n",
    "      else 'Отличие покрасилось, p_value = ' + str(p_value))"
   ]
  },
  {
   "cell_type": "markdown",
   "id": "76fad15e-e741-4d45-a868-f11ece4dc1ed",
   "metadata": {},
   "source": [
    "Исходя из выше описанных наблюдений, можно сказать, что статистически значимые различия между групп после хэширования **отсутствуют**. Следовательно, можно сделать вывод о том, что АА-тест **работает корректно**!"
   ]
  }
 ],
 "metadata": {
  "kernelspec": {
   "display_name": "Python 3 (ipykernel)",
   "language": "python",
   "name": "python3"
  },
  "language_info": {
   "codemirror_mode": {
    "name": "ipython",
    "version": 3
   },
   "file_extension": ".py",
   "mimetype": "text/x-python",
   "name": "python",
   "nbconvert_exporter": "python",
   "pygments_lexer": "ipython3",
   "version": "3.8.10"
  }
 },
 "nbformat": 4,
 "nbformat_minor": 5
}
