{
 "cells": [
  {
   "cell_type": "markdown",
   "id": "6fbb0804-230d-4760-bc33-1e9eac1e1306",
   "metadata": {},
   "source": [
    "# **Задание 2**\n",
    "\n",
    "Пришло время проанализировать результаты эксперимента, который мы провели вместе с командой дата сайентистов. Эксперимент проходил с ***2023-01-31*** по ***2023-02-06*** включительно. Для эксперимента были задействованы 2 и 1 группы. \n",
    "\n",
    "В группе 2 был использован один из новых алгоритмов рекомендации постов, группа 1 использовалась в качестве контроля. \n",
    "\n",
    "Основная гипотеза заключается в том, что новый алгоритм во 2-й группе приведет к увеличению CTR. \n",
    "\n",
    "Ваша задача — проанализировать данные АB-теста. "
   ]
  },
  {
   "cell_type": "markdown",
   "id": "b7baf8e4-a898-4d8e-949d-34155e4d3705",
   "metadata": {},
   "source": [
    "## Подготовка к работе"
   ]
  },
  {
   "cell_type": "code",
   "execution_count": 5,
   "id": "00ec9913-473c-40b6-b959-6df4bb0f3917",
   "metadata": {},
   "outputs": [],
   "source": [
    "# Подгружаем библиотеки и подключаемся к БД\n",
    "import pandas as pd\n",
    "import numpy as np\n",
    "import pandahouse\n",
    "from scipy import stats\n",
    "import seaborn as sns\n",
    "\n",
    "connection = {'host': 'https://clickhouse.lab.karpov.courses',\n",
    "                      'database':'simulator_20230220',\n",
    "                      'user':'student', \n",
    "                      'password':'dpo_python_2020'\n",
    "}\n"
   ]
  },
  {
   "cell_type": "markdown",
   "id": "8e61c3b5-4740-451d-93a0-ae7b6719721b",
   "metadata": {},
   "source": [
    "## Загрузка данных"
   ]
  },
  {
   "cell_type": "code",
   "execution_count": 6,
   "id": "99321963-ba7f-4476-8afa-49869dc7bb24",
   "metadata": {},
   "outputs": [
    {
     "data": {
      "text/html": [
       "<div>\n",
       "<style scoped>\n",
       "    .dataframe tbody tr th:only-of-type {\n",
       "        vertical-align: middle;\n",
       "    }\n",
       "\n",
       "    .dataframe tbody tr th {\n",
       "        vertical-align: top;\n",
       "    }\n",
       "\n",
       "    .dataframe thead th {\n",
       "        text-align: right;\n",
       "    }\n",
       "</style>\n",
       "<table border=\"1\" class=\"dataframe\">\n",
       "  <thead>\n",
       "    <tr style=\"text-align: right;\">\n",
       "      <th></th>\n",
       "      <th>user_id</th>\n",
       "      <th>exp_group</th>\n",
       "      <th>likes</th>\n",
       "      <th>views</th>\n",
       "      <th>ctr</th>\n",
       "    </tr>\n",
       "  </thead>\n",
       "  <tbody>\n",
       "    <tr>\n",
       "      <th>0</th>\n",
       "      <td>109963</td>\n",
       "      <td>1</td>\n",
       "      <td>3</td>\n",
       "      <td>15</td>\n",
       "      <td>0.200000</td>\n",
       "    </tr>\n",
       "    <tr>\n",
       "      <th>1</th>\n",
       "      <td>26117</td>\n",
       "      <td>1</td>\n",
       "      <td>32</td>\n",
       "      <td>141</td>\n",
       "      <td>0.226950</td>\n",
       "    </tr>\n",
       "    <tr>\n",
       "      <th>2</th>\n",
       "      <td>138232</td>\n",
       "      <td>1</td>\n",
       "      <td>18</td>\n",
       "      <td>73</td>\n",
       "      <td>0.246575</td>\n",
       "    </tr>\n",
       "    <tr>\n",
       "      <th>3</th>\n",
       "      <td>26295</td>\n",
       "      <td>1</td>\n",
       "      <td>33</td>\n",
       "      <td>122</td>\n",
       "      <td>0.270492</td>\n",
       "    </tr>\n",
       "    <tr>\n",
       "      <th>4</th>\n",
       "      <td>18392</td>\n",
       "      <td>1</td>\n",
       "      <td>7</td>\n",
       "      <td>32</td>\n",
       "      <td>0.218750</td>\n",
       "    </tr>\n",
       "  </tbody>\n",
       "</table>\n",
       "</div>"
      ],
      "text/plain": [
       "   user_id  exp_group  likes  views       ctr\n",
       "0   109963          1      3     15  0.200000\n",
       "1    26117          1     32    141  0.226950\n",
       "2   138232          1     18     73  0.246575\n",
       "3    26295          1     33    122  0.270492\n",
       "4    18392          1      7     32  0.218750"
      ]
     },
     "execution_count": 6,
     "metadata": {},
     "output_type": "execute_result"
    }
   ],
   "source": [
    "# Создание датафрейма\n",
    "q = \"\"\"\n",
    "SELECT distinct user_id,\n",
    "    exp_group,\n",
    "    sum(action = 'like') as likes,\n",
    "    sum(action = 'view') as views,\n",
    "    likes / views as ctr\n",
    "FROM {db}.feed_actions\n",
    "WHERE toDate(time) between '2023-01-31' and '2023-02-06'\n",
    "and exp_group in (1,2)\n",
    "GROUP BY user_id, exp_group\n",
    "\"\"\"\n",
    "df = pandahouse.read_clickhouse(q, connection = connection)\n",
    "\n",
    "df.head()"
   ]
  },
  {
   "cell_type": "markdown",
   "id": "acdd2b3f-6757-44de-b4fe-27dccd5d88e2",
   "metadata": {},
   "source": [
    "**Гипотеза:** Выдвинем гипотезу, что при использовании нового алгоритма в экспериментальной группе 2 CTR увеличится. <br>\n",
    "**Нулевая гипотеза:** средние значения CTR в контрольной и экспериментальной группaх равны. <br>\n",
    "**Альтернативная гипотеза:** средние значения CTR в экспериментальной группе отличаются от значений в контрольной. <br>\n",
    "**Пороговое значение p-value:** 0.05"
   ]
  },
  {
   "cell_type": "markdown",
   "id": "3864a606-cb92-4d20-a8f0-17cea8fe81c0",
   "metadata": {},
   "source": [
    "## Посмотрим на распределение глазами\n"
   ]
  },
  {
   "cell_type": "code",
   "execution_count": 7,
   "id": "5fece31c-abaa-4667-986d-c22c72e84b56",
   "metadata": {},
   "outputs": [
    {
     "data": {
      "text/plain": [
       "<AxesSubplot:xlabel='ctr', ylabel='Count'>"
      ]
     },
     "execution_count": 7,
     "metadata": {},
     "output_type": "execute_result"
    },
    {
     "data": {
      "image/png": "[encoded data removed]",
      "text/plain": [
       "<Figure size 792x576 with 1 Axes>"
      ]
     },
     "metadata": {},
     "output_type": "display_data"
    }
   ],
   "source": [
    "# Распределение ctr группы 1 и 2\n",
    "sns.set(rc = {'figure.figsize':(11.0,8.0)})\n",
    "\n",
    "sns.histplot(data = df,\n",
    "             x = 'ctr',\n",
    "             hue = 'exp_group',\n",
    "             palette=['r','b'],\n",
    "             alpha = 0.5\n",
    "            )"
   ]
  },
  {
   "cell_type": "markdown",
   "id": "04decd09-a69f-4919-b220-9bacd609d2dd",
   "metadata": {},
   "source": [
    "\n",
    "Как мы видим, распределение группы 1 похоже на нормальное, а вот распределение группы 2 - нет! Распределения отличаются, давайте разбираться"
   ]
  },
  {
   "cell_type": "markdown",
   "id": "6f2c768c-3def-4e78-809c-fba482cd56ab",
   "metadata": {},
   "source": [
    "## t-тест"
   ]
  },
  {
   "cell_type": "code",
   "execution_count": 8,
   "id": "451f9ff9-7aeb-4fe5-a350-a521344492f2",
   "metadata": {},
   "outputs": [
    {
     "name": "stdout",
     "output_type": "stream",
     "text": [
      "Отличие не покрасилось, p_value = 0.4780623130874935\n"
     ]
    }
   ],
   "source": [
    "# Сравнение параметричиским T-тестом\n",
    "p_value = stats.ttest_ind(df[df.exp_group == 1].ctr,\n",
    "                df[df.exp_group == 2].ctr,\n",
    "                equal_var = False)[1]\n",
    "print('Отличие не покрасилось, p_value = ' + str(p_value) if p_value > 0.05\n",
    "      else 'Отличие покрасилось, p_value = ' + str(p_value))"
   ]
  },
  {
   "cell_type": "markdown",
   "id": "bbcd8ad7-6d52-482e-affe-b663d2cefadf",
   "metadata": {},
   "source": [
    "## тест Манна-Уитни"
   ]
  },
  {
   "cell_type": "code",
   "execution_count": 9,
   "id": "b2e2b99e-c94e-4882-b089-39fbc21252a8",
   "metadata": {},
   "outputs": [
    {
     "name": "stdout",
     "output_type": "stream",
     "text": [
      "Отличие покрасилось, p_value = 6.0376484617779035e-56\n"
     ]
    }
   ],
   "source": [
    "# Сравнение непараметричиским U-критерием Манна — Уитни\n",
    "p_value = stats.mannwhitneyu(df[df.exp_group == 1].ctr,\n",
    "                   df[df.exp_group == 2].ctr, \n",
    "                   alternative = 'two-sided')[1]\n",
    "print('Отличие не покрасилось, p_value = ' + str(p_value) if p_value > 0.05\n",
    "      else 'Отличие покрасилось, p_value = ' + str(p_value))"
   ]
  },
  {
   "cell_type": "markdown",
   "id": "15cb1d84-3144-4884-a948-5237aeb5a15d",
   "metadata": {},
   "source": [
    "t-тест сработал неправильно из-за неномрального распределения 2 группы, а тест Манна-Уитни позволяет нам отменить нулевую гипетезу и принять альтернативную гипетезу. <br>\n",
    "**Вывод:** средние значения CTR скорее всего в экпериментальной группе выше значений в контрольной, исследуем дальше"
   ]
  },
  {
   "cell_type": "markdown",
   "id": "b2526775-027d-4697-80df-8a9254509fae",
   "metadata": {},
   "source": [
    "## Сглаженный CTR"
   ]
  },
  {
   "cell_type": "code",
   "execution_count": 12,
   "id": "a49475a7-0be0-4b9b-90ab-954a019c5ec9",
   "metadata": {},
   "outputs": [
    {
     "data": {
      "text/plain": [
       "<AxesSubplot:xlabel='ctr'>"
      ]
     },
     "execution_count": 12,
     "metadata": {},
     "output_type": "execute_result"
    },
    {
     "data": {
      "image/png": "[encoded data removed]",
      "text/plain": [
       "<Figure size 792x576 with 1 Axes>"
      ]
     },
     "metadata": {},
     "output_type": "display_data"
    }
   ],
   "source": [
    "def get_smoothed_ctr(user_likes, user_views, global_ctr, alpha):\n",
    "    smoothed_ctr = (user_likes + global_ctr * alpha) / (user_views + alpha)\n",
    "    return smoothed_ctr\n",
    "\n",
    "global_ctr_1 = df[df.exp_group == 1].likes.sum() / df[df.exp_group == 1].views.sum()\n",
    "global_ctr_2 = df[df.exp_group == 2].likes.sum() / df[df.exp_group == 2].views.sum()\n",
    "\n",
    "group1 = df[df.exp_group == 1].copy()\n",
    "group2 = df[df.exp_group == 2].copy()\n",
    "\n",
    "sns.distplot(group1.ctr, \n",
    "            kde = False)"
   ]
  },
  {
   "cell_type": "code",
   "execution_count": 13,
   "id": "bf049e01-4ca7-4869-ad13-a85bc7a50402",
   "metadata": {},
   "outputs": [
    {
     "data": {
      "text/plain": [
       "<AxesSubplot:xlabel='smoothed_ctr'>"
      ]
     },
     "execution_count": 13,
     "metadata": {},
     "output_type": "execute_result"
    },
    {
     "data": {
      "image/png": "[encoded data removed]",
      "text/plain": [
       "<Figure size 792x576 with 1 Axes>"
      ]
     },
     "metadata": {},
     "output_type": "display_data"
    }
   ],
   "source": [
    "# Добавим колонку smoothed_ctr\n",
    "group1['smoothed_ctr'] = df.apply(\n",
    "    lambda x: get_smoothed_ctr(x.likes, x.views, global_ctr_1, 5), axis = 1)\n",
    "\n",
    "group2['smoothed_ctr'] = df.apply(\n",
    "    lambda x: get_smoothed_ctr(x.likes, x.views, global_ctr_2, 5), axis = 1)\n",
    "\n",
    "sns.distplot(group1.smoothed_ctr,\n",
    "             kde = False)"
   ]
  },
  {
   "cell_type": "code",
   "execution_count": 14,
   "id": "f7e30ddc-2fd2-45ec-912e-c45b50e9a50f",
   "metadata": {},
   "outputs": [
    {
     "data": {
      "text/plain": [
       "<AxesSubplot:xlabel='smoothed_ctr'>"
      ]
     },
     "execution_count": 14,
     "metadata": {},
     "output_type": "execute_result"
    },
    {
     "data": {
      "image/png": "[encoded data removed]",
      "text/plain": [
       "<Figure size 792x576 with 1 Axes>"
      ]
     },
     "metadata": {},
     "output_type": "display_data"
    }
   ],
   "source": [
    "# Посмотрим как изменились данные после сглаживания\n",
    "sns.distplot(group2.ctr, \n",
    "            kde = False)\n",
    "sns.distplot(group2.smoothed_ctr,\n",
    "             kde = False)"
   ]
  },
  {
   "cell_type": "markdown",
   "id": "f933b5e0-2b0e-4ecb-8df7-1a3d529c36a7",
   "metadata": {},
   "source": [
    "## t-тест на сглаженном CTR"
   ]
  },
  {
   "cell_type": "code",
   "execution_count": 15,
   "id": "a77d01f3-5e6b-4e49-8e28-7b2227c59878",
   "metadata": {},
   "outputs": [
    {
     "data": {
      "text/plain": [
       "<AxesSubplot:xlabel='smoothed_ctr'>"
      ]
     },
     "execution_count": 15,
     "metadata": {},
     "output_type": "execute_result"
    },
    {
     "data": {
      "image/png": "[encoded data removed]",
      "text/plain": [
       "<Figure size 792x576 with 1 Axes>"
      ]
     },
     "metadata": {},
     "output_type": "display_data"
    }
   ],
   "source": [
    "# Визуализация сглаженных ctr у двух групп\n",
    "sns.distplot(group1.smoothed_ctr, \n",
    "            kde = False)\n",
    "sns.distplot(group2.smoothed_ctr,\n",
    "             kde = False)"
   ]
  },
  {
   "cell_type": "code",
   "execution_count": 16,
   "id": "69cd3684-0a5a-4e65-a7c0-774759ddc525",
   "metadata": {},
   "outputs": [
    {
     "name": "stdout",
     "output_type": "stream",
     "text": [
      "Отличие покрасилось, p_value = 0.0223769815558559\n"
     ]
    }
   ],
   "source": [
    "# Сравнение параметричиским T-тестом\n",
    "p_value = stats.ttest_ind(group1.smoothed_ctr,\n",
    "                          group2.smoothed_ctr,\n",
    "                          equal_var = False)[1]\n",
    "print('Отличие не покрасилось, p_value = ' + str(p_value) if p_value > 0.05\n",
    "      else 'Отличие покрасилось, p_value = ' + str(p_value))"
   ]
  },
  {
   "cell_type": "markdown",
   "id": "b85762d7-79f2-4ea2-9d9e-9d35f1b3183c",
   "metadata": {},
   "source": [
    "t-тест на сглаженном ctr сработал лучше t-теста на изначальных данных. Тест однозначно показывает p-value значительно < 0.05, что позволяет нам отменить нулевую гипетезу и принять альтернативную гипетезу. <br>\n",
    "**Вывод:** средние значения CTR в экпериментальной группе отличаются от значений в контрольной"
   ]
  },
  {
   "cell_type": "markdown",
   "id": "26e9532c-e66d-4efc-8eef-08c9dbc1367f",
   "metadata": {},
   "source": [
    "## Пуассоновский бутстреп"
   ]
  },
  {
   "cell_type": "code",
   "execution_count": 17,
   "id": "42140a16-672d-4d32-a4cc-e923e7cf198a",
   "metadata": {},
   "outputs": [
    {
     "data": {
      "text/plain": [
       "<AxesSubplot:ylabel='Count'>"
      ]
     },
     "execution_count": 17,
     "metadata": {},
     "output_type": "execute_result"
    },
    {
     "data": {
      "image/png": "[encoded data removed]",
      "text/plain": [
       "<Figure size 792x576 with 1 Axes>"
      ]
     },
     "metadata": {},
     "output_type": "display_data"
    }
   ],
   "source": [
    "def bootstrap(likes1, views1, likes2, views2, n_bootstrap = 2000):\n",
    "    poisson_bootstraps1 = stats.poisson(1).rvs((n_bootstrap, len(likes1))).astype(np.int64)\n",
    "    poisson_bootstraps2 = stats.poisson(1).rvs((n_bootstrap, len(likes2))).astype(np.int64)\n",
    "    globalctr1 = (poisson_bootstraps1*likes1).sum(axis=1) / (poisson_bootstraps1*views1).sum(axis=1)\n",
    "    globalctr2 = (poisson_bootstraps2*likes2).sum(axis=1) / (poisson_bootstraps2*views2).sum(axis=1)\n",
    "    return globalctr1, globalctr2\n",
    "\n",
    "likes1 = df[df.exp_group == 1].likes.to_numpy()\n",
    "views1 = df[df.exp_group == 1].views.to_numpy()\n",
    "likes2 = df[df.exp_group == 2].likes.to_numpy()\n",
    "views2 = df[df.exp_group == 2].views.to_numpy()\n",
    "\n",
    "# Сохраним полученные bootstrap-распределения CTR в переменные\n",
    "ctr1, ctr2 = bootstrap(likes1, views1, likes2, views2)\n",
    "\n",
    "# Распределения ctr групп 1 и 2\n",
    "sns.histplot(ctr1)\n",
    "sns.histplot(ctr2)"
   ]
  },
  {
   "cell_type": "markdown",
   "id": "5061388a-c417-47b5-9f1d-446f06652d5a",
   "metadata": {},
   "source": [
    "Выборки не пересекаются"
   ]
  },
  {
   "cell_type": "code",
   "execution_count": 18,
   "id": "e10fdeb5-1ef4-435b-83bf-48c4cc91d53d",
   "metadata": {},
   "outputs": [
    {
     "data": {
      "text/plain": [
       "<AxesSubplot:ylabel='Count'>"
      ]
     },
     "execution_count": 18,
     "metadata": {},
     "output_type": "execute_result"
    },
    {
     "data": {
      "image/png": "[encoded data removed]",
      "text/plain": [
       "<Figure size 792x576 with 1 Axes>"
      ]
     },
     "metadata": {},
     "output_type": "display_data"
    }
   ],
   "source": [
    "# Распределение разности ctr групп 1 и 2\n",
    "sns.histplot(ctr1 - ctr2)"
   ]
  },
  {
   "cell_type": "code",
   "execution_count": 23,
   "id": "d927fd09-1f34-46d2-9e32-e26df9bca233",
   "metadata": {},
   "outputs": [
    {
     "name": "stdout",
     "output_type": "stream",
     "text": [
      "Ttest_indResult(statistic=274.74388406098643, pvalue=0.0)\n",
      "MannwhitneyuResult(statistic=4000000.0, pvalue=0.0)\n"
     ]
    }
   ],
   "source": [
    "print(stats.ttest_ind(ctr1, ctr2, equal_var = False))\n",
    "print(stats.mannwhitneyu(ctr1, ctr2, alternative='two-sided'))\n",
    "                "
   ]
  },
  {
   "cell_type": "markdown",
   "id": "427c8d43-9f20-45b6-9aaf-af82b853f4b5",
   "metadata": {},
   "source": [
    "Используя метод bootstrap мы получили распределения общего CTR для групп 1 и 2. Еще на этапе визуализации можно было бы с достаточной уверенностью утверждать, что средние CTR в группе 1 выше значений в группе 2. p-value равное 0 в обоих критериях только подтверждает это, что позволяет нам отменить нулевую гипетезу и принять альтернативную гипетезу."
   ]
  },
  {
   "cell_type": "markdown",
   "id": "f56ae6d8-2f59-4feb-a3b6-9ca7ae821fd8",
   "metadata": {},
   "source": [
    "## Бакетное преобразование"
   ]
  },
  {
   "cell_type": "code",
   "execution_count": 127,
   "id": "da6d4960-2cbb-4429-9e7e-e7d296c80a84",
   "metadata": {},
   "outputs": [
    {
     "data": {
      "text/html": [
       "<div>\n",
       "<style scoped>\n",
       "    .dataframe tbody tr th:only-of-type {\n",
       "        vertical-align: middle;\n",
       "    }\n",
       "\n",
       "    .dataframe tbody tr th {\n",
       "        vertical-align: top;\n",
       "    }\n",
       "\n",
       "    .dataframe thead th {\n",
       "        text-align: right;\n",
       "    }\n",
       "</style>\n",
       "<table border=\"1\" class=\"dataframe\">\n",
       "  <thead>\n",
       "    <tr style=\"text-align: right;\">\n",
       "      <th></th>\n",
       "      <th>exp_group</th>\n",
       "      <th>bucket</th>\n",
       "      <th>bucket_ctr</th>\n",
       "    </tr>\n",
       "  </thead>\n",
       "  <tbody>\n",
       "    <tr>\n",
       "      <th>0</th>\n",
       "      <td>1</td>\n",
       "      <td>0</td>\n",
       "      <td>0.196481</td>\n",
       "    </tr>\n",
       "    <tr>\n",
       "      <th>1</th>\n",
       "      <td>2</td>\n",
       "      <td>0</td>\n",
       "      <td>0.194262</td>\n",
       "    </tr>\n",
       "    <tr>\n",
       "      <th>2</th>\n",
       "      <td>1</td>\n",
       "      <td>1</td>\n",
       "      <td>0.211887</td>\n",
       "    </tr>\n",
       "    <tr>\n",
       "      <th>3</th>\n",
       "      <td>2</td>\n",
       "      <td>1</td>\n",
       "      <td>0.215328</td>\n",
       "    </tr>\n",
       "    <tr>\n",
       "      <th>4</th>\n",
       "      <td>1</td>\n",
       "      <td>2</td>\n",
       "      <td>0.206271</td>\n",
       "    </tr>\n",
       "  </tbody>\n",
       "</table>\n",
       "</div>"
      ],
      "text/plain": [
       "   exp_group  bucket  bucket_ctr\n",
       "0          1       0    0.196481\n",
       "1          2       0    0.194262\n",
       "2          1       1    0.211887\n",
       "3          2       1    0.215328\n",
       "4          1       2    0.206271"
      ]
     },
     "execution_count": 127,
     "metadata": {},
     "output_type": "execute_result"
    }
   ],
   "source": [
    "q = \"\"\"\n",
    "select exp_group, bucket, \n",
    "sum(likes)/sum(views) as bucket_ctr\n",
    "from (select exp_group, xxHash64(user_id)%50 as bucket,\n",
    "user_id,\n",
    "sum(action = 'like') as likes,\n",
    "sum(action = 'view') as views,\n",
    "likes / views as ctr\n",
    "from {db}.feed_actions\n",
    "WHERE toDate(time) between '2023-01-31' and '2023-02-06'\n",
    "and exp_group in (1,2)\n",
    "GROUP BY user_id, exp_group)\n",
    "group by exp_group, bucket\n",
    "\"\"\"\n",
    "\n",
    "df=pandahouse.read_clickhouse(q, connection = connection)\n",
    "\n",
    "df.head()"
   ]
  },
  {
   "cell_type": "markdown",
   "id": "aec9b01b-579d-48da-8ca4-21851fb0a3e5",
   "metadata": {},
   "source": [
    "## t-тест"
   ]
  },
  {
   "cell_type": "code",
   "execution_count": 131,
   "id": "65b4989f-5c1c-48e3-8930-e79a33c4fbb9",
   "metadata": {},
   "outputs": [
    {
     "name": "stdout",
     "output_type": "stream",
     "text": [
      "Отличие покрасилось, p_value = 3.4455951649945907e-07\n"
     ]
    }
   ],
   "source": [
    "# Сравнение параметричиским T-тестом\n",
    "p_value = stats.ttest_ind(df[df.exp_group == 1].bucket_ctr,\n",
    "                df[df.exp_group == 2].bucket_ctr,\n",
    "                equal_var = False)[1]\n",
    "print('Отличие не покрасилось, p_value = ' + str(p_value) if p_value > 0.05\n",
    "      else 'Отличие покрасилось, p_value = ' + str(p_value))"
   ]
  },
  {
   "cell_type": "markdown",
   "id": "857e2cc0-7207-480e-adc8-16cf1ebcf94f",
   "metadata": {},
   "source": [
    "## тест Манна-Уитни"
   ]
  },
  {
   "cell_type": "code",
   "execution_count": 132,
   "id": "98dd2978-c770-459e-9018-f3ef5d7b8cfb",
   "metadata": {},
   "outputs": [
    {
     "name": "stdout",
     "output_type": "stream",
     "text": [
      "Отличие покрасилось, p_value = 2.859963936492646e-07\n"
     ]
    }
   ],
   "source": [
    "# Сравнение непараметричиским U-критерием Манна — Уитни\n",
    "p_value = stats.mannwhitneyu(df[df.exp_group == 1].bucket_ctr,\n",
    "                   df[df.exp_group == 2].bucket_ctr,\n",
    "                   alternative='two-sided')[1]\n",
    "print('Отличие не покрасилось, p_value = ' + str(p_value) if p_value > 0.05\n",
    "      else 'Отличие покрасилось, p_value = ' + str(p_value))"
   ]
  },
  {
   "cell_type": "markdown",
   "id": "63f5147b-1614-4258-9158-a2d733820285",
   "metadata": {},
   "source": [
    "Используя метод бакетного преобразования и примененных статистических тестов, можно отклонить нулевую гипотезу и принять альтернативную"
   ]
  },
  {
   "cell_type": "markdown",
   "id": "7eceec6b-1f86-4995-a447-0b17a918a6c9",
   "metadata": {},
   "source": [
    "## Проведем контрольную проверку, что новый алгоритм не привел к тому, что сократилось число просмотров у пользователей. Типичная ситуация в АB-тестах — вырастили число лайков, но уменьшили число просмотров."
   ]
  },
  {
   "cell_type": "code",
   "execution_count": 43,
   "id": "ab11a6ff-44a2-487b-b814-ced5d941e120",
   "metadata": {},
   "outputs": [
    {
     "name": "stdout",
     "output_type": "stream",
     "text": [
      "66.14851286173634\n"
     ]
    },
    {
     "data": {
      "image/png": "[encoded data removed]",
      "text/plain": [
       "<Figure size 792x576 with 1 Axes>"
      ]
     },
     "metadata": {},
     "output_type": "display_data"
    }
   ],
   "source": [
    "q = \"\"\"\n",
    "SELECT distinct user_id,\n",
    "    exp_group,\n",
    "    sum(action = 'like') as likes,\n",
    "    sum(action = 'view') as views,\n",
    "    likes / views as ctr\n",
    "FROM {db}.feed_actions\n",
    "WHERE toDate(time) between '2023-01-31' and '2023-02-06'\n",
    "and exp_group in (1,2)\n",
    "GROUP BY user_id, exp_group\n",
    "\"\"\"\n",
    "df = pandahouse.read_clickhouse(q, connection = connection)\n",
    "print(df[df.exp_group == 2].views.mean())\n",
    "sns.set(rc = {'figure.figsize':(11.0,8.0)})\n",
    "\n",
    "# Распределение просмотров в группе 1 b2\n",
    "sns.distplot(df[df.exp_group == 1].views, kde = False);\n",
    "sns.distplot(df[df.exp_group == 2].views, kde = False);"
   ]
  },
  {
   "cell_type": "markdown",
   "id": "0bd0a4c4-f0d3-44a3-98dc-4a0d2fe74880",
   "metadata": {},
   "source": [
    "Распределение далеко от нормального, поэтому сравнение выборок пока возможно провести только непараметрическими методами. Но попробуем как-то поработать с ним."
   ]
  },
  {
   "cell_type": "code",
   "execution_count": 35,
   "id": "97f277af-db75-4f08-929e-a19618e119ae",
   "metadata": {},
   "outputs": [
    {
     "data": {
      "text/plain": [
       "<AxesSubplot:xlabel='views'>"
      ]
     },
     "execution_count": 35,
     "metadata": {},
     "output_type": "execute_result"
    },
    {
     "data": {
      "image/png": "[encoded data removed]",
      "text/plain": [
       "<Figure size 792x576 with 1 Axes>"
      ]
     },
     "metadata": {},
     "output_type": "display_data"
    }
   ],
   "source": [
    "sns.distplot(np.log(df[df.exp_group == 1].views), kde = False)\n",
    "sns.distplot(np.log(df[df.exp_group == 2].views), kde = False)"
   ]
  },
  {
   "cell_type": "markdown",
   "id": "b7e016f3-ea29-42f6-8cae-141aaf34bd21",
   "metadata": {},
   "source": [
    "Распределения в в обоих группах стали заметно больше походить на нормальные. Хотя и далеки от идеального, попробуем поработать с ними.\n",
    "\n",
    "**Гипотеза:** Выдвинем новую гипотезу, что в группе 2 в сравнении с группой 1 уменьшилось число просмотров <br>\n",
    "**Нулевая гипотеза:** число просмотров в экспериментальной группе равно или больше, нежели в контрольной группе<br>\n",
    "**Альтернативная гипотеза:** число просмотров в экспериментальной группе меньше, чем в контрольной.<br>\n",
    "**Пороговое значение p-value:** 0.05"
   ]
  },
  {
   "cell_type": "code",
   "execution_count": 77,
   "id": "60326a56-8138-4ce8-bc16-6a352975ba74",
   "metadata": {},
   "outputs": [
    {
     "data": {
      "text/plain": [
       "MannwhitneyuResult(statistic=49994123.5, pvalue=0.3488124463375471)"
      ]
     },
     "execution_count": 77,
     "metadata": {},
     "output_type": "execute_result"
    }
   ],
   "source": [
    "# Сравнение непараметричиским U-критерием Манна — Уитни\n",
    "stats.mannwhitneyu(np.log(df[df.exp_group == 2].views), np.log(df[df.exp_group == 1].views), alternative='less')"
   ]
  },
  {
   "cell_type": "code",
   "execution_count": 79,
   "id": "473666e4-b986-4162-a870-25459b22ae96",
   "metadata": {},
   "outputs": [
    {
     "data": {
      "text/plain": [
       "Ttest_indResult(statistic=-0.6715621845844871, pvalue=0.25093510483867126)"
      ]
     },
     "execution_count": 79,
     "metadata": {},
     "output_type": "execute_result"
    }
   ],
   "source": [
    "# Сравнение параметричиским T-тестом\n",
    "stats.ttest_ind(np.log(df[df.exp_group == 2].views), np.log(df[df.exp_group == 1].views), equal_var=False, alternative='less')"
   ]
  },
  {
   "cell_type": "markdown",
   "id": "c3101b87-b940-4ed4-873d-b9c4c7e02ce5",
   "metadata": {},
   "source": [
    "**Вывод:** новый алгоритм не привел к снижению количества просмотров в экспериментальной группе."
   ]
  },
  {
   "cell_type": "markdown",
   "id": "59b28393-91a4-4822-9f35-52093245ba8f",
   "metadata": {
    "tags": []
   },
   "source": [
    "## Проведем контрольную проверку, что новый алгоритм не привел к тому, что сократилось число лайков у пользователей."
   ]
  },
  {
   "cell_type": "markdown",
   "id": "456ad72d-8562-4311-b6ae-3f8ace968a29",
   "metadata": {},
   "source": [
    "**Гипотеза:** Выдвинем новую гипотезу, что в группе 2 в сравнении с группой 1 уменьшилось число просмотров <br>\n",
    "**Нулевая гипотеза:** число лайков в экспериментальной группе равно или больше, нежели в контрольной группе<br>\n",
    "**Альтернативная гипотеза:** число лайков в экспериментальной группе меньше, чем в контрольной.<br>\n",
    "**Пороговое значение p-value:** 0.05"
   ]
  },
  {
   "cell_type": "code",
   "execution_count": 71,
   "id": "b92ec3c7-e9a8-4cef-8241-beb9e77c6452",
   "metadata": {},
   "outputs": [
    {
     "data": {
      "image/png": "[encoded data removed]",
      "text/plain": [
       "<Figure size 792x576 with 1 Axes>"
      ]
     },
     "metadata": {},
     "output_type": "display_data"
    }
   ],
   "source": [
    "sns.distplot(df[df.exp_group == 1].likes, kde = False);\n",
    "sns.distplot(df[df.exp_group == 2].likes, kde = False);"
   ]
  },
  {
   "cell_type": "code",
   "execution_count": 86,
   "id": "91c932cd-7650-45c4-9e7f-87c53af6291f",
   "metadata": {},
   "outputs": [
    {
     "data": {
      "text/plain": [
       "MannwhitneyuResult(statistic=44792538.0, pvalue=1.4300962888572648e-39)"
      ]
     },
     "execution_count": 86,
     "metadata": {},
     "output_type": "execute_result"
    }
   ],
   "source": [
    "# Сравнение непараметричиским U-критерием Манна — Уитни\n",
    "stats.mannwhitneyu(df[df.exp_group == 2].likes, df[df.exp_group == 1].likes, alternative='less')"
   ]
  },
  {
   "cell_type": "markdown",
   "id": "610d629e-bb1a-426c-ac92-c79ee7fd58e7",
   "metadata": {},
   "source": [
    "**Вывод:** новый алгоритм привел к снижению количества лайков в экспериментальной группе."
   ]
  },
  {
   "cell_type": "markdown",
   "id": "c1c81d27-8af6-4c22-82cb-16ebbcc0563e",
   "metadata": {},
   "source": [
    "## Подытожим"
   ]
  },
  {
   "cell_type": "markdown",
   "id": "66854028-31c2-41c7-9ee6-c443c7ae3a03",
   "metadata": {},
   "source": [
    "- exp_group = 1 - Все по-старому <br>\n",
    "- exp_group = 2 - Рекомендации \"похожих на лайкнутые постов\"\n",
    "\n",
    "Посмотрев на распределение глазами, можно сказать, что у 2 группы большая часть значений CTR ухудшилось по сравнению с 1 группой. Также распределение группы 1 близко к нормальному, а группы 2 нет - тут мы видим два горба у распределения. Ввиду этого, t-тест скорее покажет неправильные результаты из-за его требовательности к распределению. \n",
    "\n",
    "Это можно проверить: t-тест и тест Манна-Уитни показывают разные результаты: t-тест говорит, что отличий в распределений нет, а тест Манна-Уитни - различия есть. t-тест на сглаженном CTR проявил себя правильно: отличие покрасилось. bootstrap показал, что CTR группы 1 выше, чем у группы 2 в среднем на 0.1, что есть звоночек к тому, что нам не следует принимать новый алгоритм. Метод бакетных преобразований и статистические тесты сказали нам о тех же результатах. \n",
    "\n",
    "Дополнительно были введены гипотезы по изменению количества лайков и просмотров у разных групп. Статистические тесты показали, что между 1 и 2 группой нет статистически значимых различий по просмотрам, однако есть статистически значимая разница по лайкам. Так, у 2 группы лайков меньше, чем у 1 группы\n",
    "\n",
    "*Возможная причина неудачного алгоритма рекомендаций* - видимо пользователю не нравится видеть однотипные посты, которые он лайкал, поэтому их количество упало\n",
    "\n",
    "**Вывод:** раскатывать новый алгоритм все-таки не стоит"
   ]
  }
 ],
 "metadata": {
  "kernelspec": {
   "display_name": "Python 3 (ipykernel)",
   "language": "python",
   "name": "python3"
  },
  "language_info": {
   "codemirror_mode": {
    "name": "ipython",
    "version": 3
   },
   "file_extension": ".py",
   "mimetype": "text/x-python",
   "name": "python",
   "nbconvert_exporter": "python",
   "pygments_lexer": "ipython3",
   "version": "3.8.10"
  }
 },
 "nbformat": 4,
 "nbformat_minor": 5
}
