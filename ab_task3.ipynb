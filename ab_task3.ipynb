{
 "cells": [
  {
   "cell_type": "markdown",
   "id": "6c1fdae6-4651-4723-939a-3652c28b92dd",
   "metadata": {
    "tags": []
   },
   "source": [
    "## Задание 3"
   ]
  },
  {
   "cell_type": "markdown",
   "id": "550fdf85-e1b9-4ad2-a275-79874e649a50",
   "metadata": {},
   "source": [
    "Вместо того, чтобы заталкивать в тест «поюзерные» CTR, можно сконструировать другую метрику и анализировать ее, но при этом гарантируется (в отличие от сглаженного CTR), что если тест на этой другой метрике «прокрасится» и увидит изменения, значит изменения есть и в метрике исходной (то есть в лайках на пользователя и в пользовательских CTR\n",
    "\n",
    "При этом метод сам по себе очень прост. Что это за метрика такая?\n",
    "\n",
    "Считаем общий CTR в контрольной группе  𝐶𝑇𝑅𝑐𝑜𝑛𝑡𝑟𝑜𝑙=𝑠𝑢𝑚(𝑙𝑖𝑘𝑒𝑠)/𝑠𝑢𝑚(𝑣𝑖𝑒𝑤𝑠) \n",
    "Посчитаем в обеих группах поюзерную метрику  𝑙𝑖𝑛𝑒𝑎𝑟𝑖𝑧𝑒𝑑_𝑙𝑖𝑘𝑒𝑠=𝑙𝑖𝑘𝑒𝑠−𝐶𝑇𝑅𝑐𝑜𝑛𝑡𝑟𝑜𝑙∗𝑣𝑖𝑒𝑤𝑠 \n",
    "После чего сравним  t-тестом отличия в группах по метрике 𝑙𝑖𝑛𝑒𝑎𝑟𝑖𝑧𝑒𝑑_𝑙𝑖𝑘𝑒𝑠  \n",
    "Метод простой, гарантируется, что при приличном размере выборки (как у нас — подойдет) можно бесплатно увеличить чувствительность вашей метрики (или, по крайней мере, не сделать хуже). Как по мне, это ОЧЕНЬ круто.\n",
    "\n",
    "**Задача:**\n",
    "\n",
    "1) Проанализируйте тест между группами 0 и 3 по метрике линеаризованных лайков. Видно ли отличие? Стало ли 𝑝−𝑣𝑎𝑙𝑢𝑒 меньше?\n",
    "2) Проанализируйте тест между группами 1 и 2 по метрике линеаризованных лайков. Видно ли отличие? Стало ли 𝑝−𝑣𝑎𝑙𝑢𝑒 меньше?"
   ]
  },
  {
   "cell_type": "code",
   "execution_count": 3,
   "id": "debc2644-2340-49aa-b3d8-cea5954d0ee6",
   "metadata": {},
   "outputs": [],
   "source": [
    "# Подгружаем библиотеки и подключаемся к БД\n",
    "import pandas as pd\n",
    "import pandahouse\n",
    "import hashlib\n",
    "import seaborn as sns\n",
    "from scipy import stats\n",
    "\n",
    "connection = {\n",
    "            'host': 'https://clickhouse.lab.karpov.courses',\n",
    "            'database':'simulator_20230220',\n",
    "            'user':'student', \n",
    "            'password':'dpo_python_2020'\n",
    "}\n"
   ]
  },
  {
   "cell_type": "code",
   "execution_count": 4,
   "id": "4d1a5550-88e0-4485-858b-5b1bb8b4b291",
   "metadata": {},
   "outputs": [
    {
     "data": {
      "text/html": [
       "<div>\n",
       "<style scoped>\n",
       "    .dataframe tbody tr th:only-of-type {\n",
       "        vertical-align: middle;\n",
       "    }\n",
       "\n",
       "    .dataframe tbody tr th {\n",
       "        vertical-align: top;\n",
       "    }\n",
       "\n",
       "    .dataframe thead th {\n",
       "        text-align: right;\n",
       "    }\n",
       "</style>\n",
       "<table border=\"1\" class=\"dataframe\">\n",
       "  <thead>\n",
       "    <tr style=\"text-align: right;\">\n",
       "      <th></th>\n",
       "      <th>exp_group</th>\n",
       "      <th>user_id</th>\n",
       "      <th>likes</th>\n",
       "      <th>views</th>\n",
       "      <th>ctr</th>\n",
       "    </tr>\n",
       "  </thead>\n",
       "  <tbody>\n",
       "    <tr>\n",
       "      <th>0</th>\n",
       "      <td>3</td>\n",
       "      <td>115383</td>\n",
       "      <td>48</td>\n",
       "      <td>135</td>\n",
       "      <td>0.355556</td>\n",
       "    </tr>\n",
       "    <tr>\n",
       "      <th>1</th>\n",
       "      <td>3</td>\n",
       "      <td>10326</td>\n",
       "      <td>19</td>\n",
       "      <td>65</td>\n",
       "      <td>0.292308</td>\n",
       "    </tr>\n",
       "    <tr>\n",
       "      <th>2</th>\n",
       "      <td>3</td>\n",
       "      <td>123580</td>\n",
       "      <td>22</td>\n",
       "      <td>109</td>\n",
       "      <td>0.201835</td>\n",
       "    </tr>\n",
       "    <tr>\n",
       "      <th>3</th>\n",
       "      <td>3</td>\n",
       "      <td>36785</td>\n",
       "      <td>44</td>\n",
       "      <td>272</td>\n",
       "      <td>0.161765</td>\n",
       "    </tr>\n",
       "    <tr>\n",
       "      <th>4</th>\n",
       "      <td>3</td>\n",
       "      <td>2709</td>\n",
       "      <td>20</td>\n",
       "      <td>92</td>\n",
       "      <td>0.217391</td>\n",
       "    </tr>\n",
       "  </tbody>\n",
       "</table>\n",
       "</div>"
      ],
      "text/plain": [
       "   exp_group  user_id  likes  views       ctr\n",
       "0          3   115383     48    135  0.355556\n",
       "1          3    10326     19     65  0.292308\n",
       "2          3   123580     22    109  0.201835\n",
       "3          3    36785     44    272  0.161765\n",
       "4          3     2709     20     92  0.217391"
      ]
     },
     "execution_count": 4,
     "metadata": {},
     "output_type": "execute_result"
    }
   ],
   "source": [
    "# Создаем dataframe\n",
    "q = \"\"\"\n",
    "SELECT exp_group, \n",
    "    user_id,\n",
    "    sum(action = 'like') as likes,\n",
    "    sum(action = 'view') as views,\n",
    "    likes/views as ctr\n",
    "FROM {db}.feed_actions \n",
    "WHERE toDate(time) >= '2023-01-31' and toDate(time) <= '2023-02-06' \n",
    "    and exp_group in (0,3)\n",
    "GROUP BY exp_group, user_id\n",
    "\"\"\"\n",
    "\n",
    "df = pandahouse.read_clickhouse(q, connection = connection)\n",
    "\n",
    "df.head()"
   ]
  },
  {
   "cell_type": "code",
   "execution_count": 38,
   "id": "fbf14860-dce9-4aef-9d70-7af1866a2325",
   "metadata": {},
   "outputs": [
    {
     "data": {
      "text/plain": [
       "<AxesSubplot:xlabel='ctr', ylabel='Count'>"
      ]
     },
     "execution_count": 38,
     "metadata": {},
     "output_type": "execute_result"
    },
    {
     "data": {
      "image/png": "[encoded data removed]",
      "text/plain": [
       "<Figure size 864x576 with 1 Axes>"
      ]
     },
     "metadata": {},
     "output_type": "display_data"
    }
   ],
   "source": [
    "# Построим распредление гурпп 0 и 3\n",
    "sns.set(rc={'figure.figsize': [12.0, 8.0]})\n",
    "sns.histplot(data=df,\n",
    "             x = 'ctr',\n",
    "             hue = 'exp_group',\n",
    "             palette=['r','b'],\n",
    "             alpha = 0.5,\n",
    "             kde = False)"
   ]
  },
  {
   "cell_type": "markdown",
   "id": "bfc46219-1b8b-4640-bbbb-142754319993",
   "metadata": {},
   "source": [
    "Распределения похожи друг на друга и близки к нормальному"
   ]
  },
  {
   "cell_type": "markdown",
   "id": "284a0b9f-5bc1-42de-8afa-556051c6bf1e",
   "metadata": {},
   "source": [
    "**Гипотеза:** CTR внутри групп 0 и 3 разные<br>\n",
    "**Нулевая гипотеза:** CTR внутри групп равны<br>\n",
    "**Альтернативная гипотеза:** CTR внутри групп отличаются<br>\n",
    "**Пороговое значение p-value:** 0.05"
   ]
  },
  {
   "cell_type": "code",
   "execution_count": 25,
   "id": "ba2f07b8-9054-4590-8ae7-df954245bed9",
   "metadata": {},
   "outputs": [
    {
     "name": "stdout",
     "output_type": "stream",
     "text": [
      "Отличие покрасилось, p_value = 2.140420351467498e-06\n"
     ]
    }
   ],
   "source": [
    "# Проведем параметрический t-тест\n",
    "p_value01 = stats.ttest_ind(df[df.exp_group == 0].ctr,\n",
    "                df[df.exp_group == 3].ctr,\n",
    "                equal_var=False,\n",
    "                alternative='two-sided')[1]\n",
    "print('Отличие не покрасилось, p_value = ' + str(p_value01) if p_value > 0.05\n",
    "      else 'Отличие покрасилось, p_value = ' + str(p_value01))"
   ]
  },
  {
   "cell_type": "code",
   "execution_count": 27,
   "id": "928c35cd-9ede-4057-9cd6-f7827dc40ab3",
   "metadata": {},
   "outputs": [
    {
     "name": "stdout",
     "output_type": "stream",
     "text": [
      "Отличие покрасилось, p_value = 2.907903058796415e-10\n"
     ]
    }
   ],
   "source": [
    "# Проведем непараметрический тест Манна-Уитни\n",
    "p_value02 = stats.mannwhitneyu(df[df.exp_group == 0].ctr,\n",
    "                               df[df.exp_group == 3].ctr,\n",
    "                               alternative='two-sided')[1]\n",
    "print('Отличие не покрасилось, p_value = ' + str(p_value02) if p_value > 0.05\n",
    "      else 'Отличие покрасилось, p_value = ' + str(p_value02))"
   ]
  },
  {
   "cell_type": "markdown",
   "id": "41b52386-d866-4dc9-9562-1841c6f7e49c",
   "metadata": {},
   "source": [
    "Тесты показали, что статистически значимой разницы между группами нет - они одинаковы"
   ]
  },
  {
   "cell_type": "markdown",
   "id": "d2cb1465-75c9-4fbe-8030-906da343b238",
   "metadata": {},
   "source": [
    "## Метрика линеаризованных лайков"
   ]
  },
  {
   "cell_type": "code",
   "execution_count": 29,
   "id": "9dc82ff0-9830-4ae6-b7d4-b074026ada15",
   "metadata": {},
   "outputs": [
    {
     "data": {
      "text/plain": [
       "0.20940565618023194"
      ]
     },
     "execution_count": 29,
     "metadata": {},
     "output_type": "execute_result"
    }
   ],
   "source": [
    "# Считаем общий CTR в контрольной группе\n",
    "ctr_control = df[df.exp_group == 0].likes.sum() / df[df.exp_group == 0].views.sum()\n",
    "\n",
    "ctr_control"
   ]
  },
  {
   "cell_type": "code",
   "execution_count": 30,
   "id": "946de8e1-52f6-4e42-a160-b28f09c78340",
   "metadata": {},
   "outputs": [
    {
     "data": {
      "text/html": [
       "<div>\n",
       "<style scoped>\n",
       "    .dataframe tbody tr th:only-of-type {\n",
       "        vertical-align: middle;\n",
       "    }\n",
       "\n",
       "    .dataframe tbody tr th {\n",
       "        vertical-align: top;\n",
       "    }\n",
       "\n",
       "    .dataframe thead th {\n",
       "        text-align: right;\n",
       "    }\n",
       "</style>\n",
       "<table border=\"1\" class=\"dataframe\">\n",
       "  <thead>\n",
       "    <tr style=\"text-align: right;\">\n",
       "      <th></th>\n",
       "      <th>exp_group</th>\n",
       "      <th>user_id</th>\n",
       "      <th>likes</th>\n",
       "      <th>views</th>\n",
       "      <th>ctr</th>\n",
       "      <th>linearized_likes</th>\n",
       "    </tr>\n",
       "  </thead>\n",
       "  <tbody>\n",
       "    <tr>\n",
       "      <th>0</th>\n",
       "      <td>3</td>\n",
       "      <td>115383</td>\n",
       "      <td>48</td>\n",
       "      <td>135</td>\n",
       "      <td>0.355556</td>\n",
       "      <td>19.730236</td>\n",
       "    </tr>\n",
       "    <tr>\n",
       "      <th>1</th>\n",
       "      <td>3</td>\n",
       "      <td>10326</td>\n",
       "      <td>19</td>\n",
       "      <td>65</td>\n",
       "      <td>0.292308</td>\n",
       "      <td>5.388632</td>\n",
       "    </tr>\n",
       "    <tr>\n",
       "      <th>2</th>\n",
       "      <td>3</td>\n",
       "      <td>123580</td>\n",
       "      <td>22</td>\n",
       "      <td>109</td>\n",
       "      <td>0.201835</td>\n",
       "      <td>-0.825217</td>\n",
       "    </tr>\n",
       "    <tr>\n",
       "      <th>3</th>\n",
       "      <td>3</td>\n",
       "      <td>36785</td>\n",
       "      <td>44</td>\n",
       "      <td>272</td>\n",
       "      <td>0.161765</td>\n",
       "      <td>-12.958338</td>\n",
       "    </tr>\n",
       "    <tr>\n",
       "      <th>4</th>\n",
       "      <td>3</td>\n",
       "      <td>2709</td>\n",
       "      <td>20</td>\n",
       "      <td>92</td>\n",
       "      <td>0.217391</td>\n",
       "      <td>0.734680</td>\n",
       "    </tr>\n",
       "  </tbody>\n",
       "</table>\n",
       "</div>"
      ],
      "text/plain": [
       "   exp_group  user_id  likes  views       ctr  linearized_likes\n",
       "0          3   115383     48    135  0.355556         19.730236\n",
       "1          3    10326     19     65  0.292308          5.388632\n",
       "2          3   123580     22    109  0.201835         -0.825217\n",
       "3          3    36785     44    272  0.161765        -12.958338\n",
       "4          3     2709     20     92  0.217391          0.734680"
      ]
     },
     "execution_count": 30,
     "metadata": {},
     "output_type": "execute_result"
    }
   ],
   "source": [
    "# Посчитаем в обеих группах поюзерную метрику\n",
    "df['linearized_likes'] = df.likes - ctr_control * df.views\n",
    "\n",
    "df.head()"
   ]
  },
  {
   "cell_type": "code",
   "execution_count": 37,
   "id": "ff58bed8-dd10-45bf-bd02-328a458d8c38",
   "metadata": {},
   "outputs": [
    {
     "data": {
      "text/plain": [
       "<AxesSubplot:xlabel='linearized_likes', ylabel='Count'>"
      ]
     },
     "execution_count": 37,
     "metadata": {},
     "output_type": "execute_result"
    },
    {
     "data": {
      "image/png": "[encoded data removed]",
      "text/plain": [
       "<Figure size 864x576 with 1 Axes>"
      ]
     },
     "metadata": {},
     "output_type": "display_data"
    }
   ],
   "source": [
    "# Отобразим распредления линеаризованных лайков по группам\n",
    "sns.set(rc={'figure.figsize': [12.0, 8.0]})\n",
    "sns.histplot(data=df,\n",
    "             x = 'linearized_likes',\n",
    "             hue = 'exp_group',\n",
    "             palette = ['r','b'],\n",
    "             alpha = 0.5,\n",
    "             kde = False)"
   ]
  },
  {
   "cell_type": "markdown",
   "id": "0477fcd0-4b93-4a44-a3f6-75ce06517c55",
   "metadata": {},
   "source": [
    "Распределения похожи друг на друга и близки к нормальному"
   ]
  },
  {
   "cell_type": "markdown",
   "id": "52cbcfd3-1784-45df-98f6-db2dcb8ed7f9",
   "metadata": {},
   "source": [
    "**Гипотеза:** линеаризованные лайки внутри групп 0 и 3 разные<br>\n",
    "**Нулевая гипотеза:** линеаризованные лайки внутри групп равны<br>\n",
    "**Альтернативная гипотеза:** линеаризованные лайки внутри групп отличаются<br>\n",
    "**Пороговое значение p-value:** 0.05"
   ]
  },
  {
   "cell_type": "code",
   "execution_count": 43,
   "id": "0b593e9a-e8a9-45c6-a275-f7d08371d751",
   "metadata": {},
   "outputs": [
    {
     "name": "stdout",
     "output_type": "stream",
     "text": [
      "Отличие покрасилось, p_value = 1.8016389997239062e-07\n"
     ]
    }
   ],
   "source": [
    "# Параметрчиеский t-тест\n",
    "p_value11 = stats.ttest_ind(df[df.exp_group == 0].linearized_likes,\n",
    "                df[df.exp_group == 3].linearized_likes,\n",
    "                equal_var = False,\n",
    "                alternative = 'two-sided')[1]\n",
    "print('Отличие не покрасилось, p_value = ' + str(p_value11) if p_value > 0.05\n",
    "      else 'Отличие покрасилось, p_value = ' + str(p_value11))"
   ]
  },
  {
   "cell_type": "code",
   "execution_count": 47,
   "id": "b0a94b97-3bbe-4387-b7e9-6d15e9a483f8",
   "metadata": {},
   "outputs": [
    {
     "name": "stdout",
     "output_type": "stream",
     "text": [
      "Отличие покрасилось, p_value = 7.149855166577329e-10\n"
     ]
    }
   ],
   "source": [
    "# Непараметрический тест Манна-Уитни\n",
    "p_value12 = stats.mannwhitneyu(df[df.exp_group == 0].linearized_likes,\n",
    "                   df[df.exp_group == 3].linearized_likes,\n",
    "                   alternative='two-sided')[1]\n",
    "print('Отличие не покрасилось, p_value = ' + str(p_value12) if p_value > 0.05\n",
    "      else 'Отличие покрасилось, p_value = ' + str(p_value12))"
   ]
  },
  {
   "cell_type": "markdown",
   "id": "a35bff17-441c-4460-adb5-066907087b22",
   "metadata": {},
   "source": [
    "Тесты показали, что статистически значимой разницы между группами нет - они одинаковы"
   ]
  },
  {
   "cell_type": "code",
   "execution_count": 57,
   "id": "5512dcd4-7f26-4bdd-a466-8786404e29f1",
   "metadata": {},
   "outputs": [
    {
     "name": "stdout",
     "output_type": "stream",
     "text": [
      "p_value после t-теста стало меньше в 11.880406406585939 раз\n",
      "p_value после теста Манна-Уитни стало больше в 2.4587666858250303 раз\n"
     ]
    }
   ],
   "source": [
    "# Сравним p_value у обычного пользовательского ctr и линеаризованных лайков\n",
    "\n",
    "print('p_value после t-теста стало меньше в ' + str(p_value01 / p_value11) + ' раз')\n",
    "print('p_value после теста Манна-Уитни стало больше в ' + str(p_value12 / p_value02) + ' раз')"
   ]
  },
  {
   "cell_type": "markdown",
   "id": "e6403b9e-2deb-4eb2-b1d1-6b40ac9f8a47",
   "metadata": {},
   "source": [
    "## Аналогичные исследования для 1 и 2 группы"
   ]
  },
  {
   "cell_type": "code",
   "execution_count": 58,
   "id": "a0188661-46da-4eff-9f8f-f39d5a46bc4f",
   "metadata": {},
   "outputs": [
    {
     "data": {
      "text/html": [
       "<div>\n",
       "<style scoped>\n",
       "    .dataframe tbody tr th:only-of-type {\n",
       "        vertical-align: middle;\n",
       "    }\n",
       "\n",
       "    .dataframe tbody tr th {\n",
       "        vertical-align: top;\n",
       "    }\n",
       "\n",
       "    .dataframe thead th {\n",
       "        text-align: right;\n",
       "    }\n",
       "</style>\n",
       "<table border=\"1\" class=\"dataframe\">\n",
       "  <thead>\n",
       "    <tr style=\"text-align: right;\">\n",
       "      <th></th>\n",
       "      <th>exp_group</th>\n",
       "      <th>user_id</th>\n",
       "      <th>likes</th>\n",
       "      <th>views</th>\n",
       "      <th>ctr</th>\n",
       "    </tr>\n",
       "  </thead>\n",
       "  <tbody>\n",
       "    <tr>\n",
       "      <th>0</th>\n",
       "      <td>1</td>\n",
       "      <td>140764</td>\n",
       "      <td>13</td>\n",
       "      <td>52</td>\n",
       "      <td>0.250000</td>\n",
       "    </tr>\n",
       "    <tr>\n",
       "      <th>1</th>\n",
       "      <td>1</td>\n",
       "      <td>49204</td>\n",
       "      <td>10</td>\n",
       "      <td>62</td>\n",
       "      <td>0.161290</td>\n",
       "    </tr>\n",
       "    <tr>\n",
       "      <th>2</th>\n",
       "      <td>1</td>\n",
       "      <td>145957</td>\n",
       "      <td>72</td>\n",
       "      <td>171</td>\n",
       "      <td>0.421053</td>\n",
       "    </tr>\n",
       "    <tr>\n",
       "      <th>3</th>\n",
       "      <td>1</td>\n",
       "      <td>18392</td>\n",
       "      <td>20</td>\n",
       "      <td>100</td>\n",
       "      <td>0.200000</td>\n",
       "    </tr>\n",
       "    <tr>\n",
       "      <th>4</th>\n",
       "      <td>2</td>\n",
       "      <td>131473</td>\n",
       "      <td>38</td>\n",
       "      <td>231</td>\n",
       "      <td>0.164502</td>\n",
       "    </tr>\n",
       "  </tbody>\n",
       "</table>\n",
       "</div>"
      ],
      "text/plain": [
       "   exp_group  user_id  likes  views       ctr\n",
       "0          1   140764     13     52  0.250000\n",
       "1          1    49204     10     62  0.161290\n",
       "2          1   145957     72    171  0.421053\n",
       "3          1    18392     20    100  0.200000\n",
       "4          2   131473     38    231  0.164502"
      ]
     },
     "execution_count": 58,
     "metadata": {},
     "output_type": "execute_result"
    }
   ],
   "source": [
    "# Создаем dataframe\n",
    "q = \"\"\"\n",
    "SELECT exp_group, \n",
    "    user_id,\n",
    "    sum(action = 'like') as likes,\n",
    "    sum(action = 'view') as views,\n",
    "    likes/views as ctr\n",
    "FROM {db}.feed_actions \n",
    "WHERE toDate(time) >= '2023-01-31' and toDate(time) <= '2023-02-26' \n",
    "    and exp_group in (1,2)\n",
    "GROUP BY exp_group, user_id\n",
    "\"\"\"\n",
    "\n",
    "df = pandahouse.read_clickhouse(q, connection = connection)\n",
    "\n",
    "df.head()"
   ]
  },
  {
   "cell_type": "code",
   "execution_count": 59,
   "id": "2c4f6f5a-6358-41b1-9f1d-a26ce38f0815",
   "metadata": {},
   "outputs": [
    {
     "data": {
      "text/plain": [
       "<AxesSubplot:xlabel='ctr', ylabel='Count'>"
      ]
     },
     "execution_count": 59,
     "metadata": {},
     "output_type": "execute_result"
    },
    {
     "data": {
      "image/png": "[encoded data removed]",
      "text/plain": [
       "<Figure size 864x576 with 1 Axes>"
      ]
     },
     "metadata": {},
     "output_type": "display_data"
    }
   ],
   "source": [
    "# Построим распредление гурпп 1 и 2\n",
    "sns.set(rc={'figure.figsize': [12.0, 8.0]})\n",
    "sns.histplot(data=df,\n",
    "             x = 'ctr',\n",
    "             hue = 'exp_group',\n",
    "             palette=['r','b'],\n",
    "             alpha = 0.5,\n",
    "             kde = False)"
   ]
  },
  {
   "cell_type": "markdown",
   "id": "6896fe56-97ea-4b02-b383-0879cb32197d",
   "metadata": {},
   "source": [
    "**Гипотеза:** CTR внутри групп 1 и 2 разные<br>\n",
    "**Нулевая гипотеза:** CTR внутри групп равны<br>\n",
    "**Альтернативная гипотеза:** CTR внутри групп отличаются<br>\n",
    "**Пороговое значение p-value:** 0.05"
   ]
  },
  {
   "cell_type": "code",
   "execution_count": 62,
   "id": "b673b26a-fbf4-402b-b444-1e747a4e1337",
   "metadata": {},
   "outputs": [
    {
     "name": "stdout",
     "output_type": "stream",
     "text": [
      "Отличие покрасилось, p_value = 9.30684877586138e-11\n"
     ]
    }
   ],
   "source": [
    "# Проведем параметрический t-тест\n",
    "p_value01 = stats.ttest_ind(df[df.exp_group == 1].ctr,\n",
    "                df[df.exp_group == 2].ctr,\n",
    "                equal_var=False,\n",
    "                alternative='two-sided')[1]\n",
    "print('Отличие не покрасилось, p_value = ' + str(p_value01) if p_value > 0.05\n",
    "      else 'Отличие покрасилось, p_value = ' + str(p_value01))"
   ]
  },
  {
   "cell_type": "code",
   "execution_count": 63,
   "id": "7a99a830-441c-4065-b0dc-18ca50d67df3",
   "metadata": {},
   "outputs": [
    {
     "name": "stdout",
     "output_type": "stream",
     "text": [
      "Отличие покрасилось, p_value = 4.050569527699207e-35\n"
     ]
    }
   ],
   "source": [
    "# Проведем непараметрический тест Манна-Уитни\n",
    "p_value02 = stats.mannwhitneyu(df[df.exp_group == 1].ctr,\n",
    "                               df[df.exp_group == 2].ctr,\n",
    "                               alternative='two-sided')[1]\n",
    "print('Отличие не покрасилось, p_value = ' + str(p_value02) if p_value > 0.05\n",
    "      else 'Отличие покрасилось, p_value = ' + str(p_value02))"
   ]
  },
  {
   "cell_type": "markdown",
   "id": "8b652379-29f2-4309-b67f-910b0f9ca5a5",
   "metadata": {},
   "source": [
    "Тесты показали, что статистически значимой разницы между группами нет - они одинаковы"
   ]
  },
  {
   "cell_type": "code",
   "execution_count": 65,
   "id": "1e7932e3-4ae8-4e23-bb28-a1bc457daad4",
   "metadata": {},
   "outputs": [
    {
     "data": {
      "text/plain": [
       "<AxesSubplot:xlabel='linearized_likes', ylabel='Count'>"
      ]
     },
     "execution_count": 65,
     "metadata": {},
     "output_type": "execute_result"
    },
    {
     "data": {
      "image/png": "[encoded data removed]",
      "text/plain": [
       "<Figure size 864x576 with 1 Axes>"
      ]
     },
     "metadata": {},
     "output_type": "display_data"
    }
   ],
   "source": [
    "# Считаем общий CTR в контрольной группе\n",
    "ctr_control = df[df.exp_group == 1].likes.sum() / df[df.exp_group == 1].views.sum()\n",
    "\n",
    "# Посчитаем в обеих группах поюзерную метрику\n",
    "df['linearized_likes'] = df.likes - ctr_control * df.views\n",
    "\n",
    "# Отобразим распредления линеаризованных лайков по группам\n",
    "sns.set(rc={'figure.figsize': [12.0, 8.0]})\n",
    "sns.histplot(data=df,\n",
    "             x = 'linearized_likes',\n",
    "             hue = 'exp_group',\n",
    "             palette = ['r','b'],\n",
    "             alpha = 0.5,\n",
    "             kde = False)"
   ]
  },
  {
   "cell_type": "markdown",
   "id": "4a0e02c5-6f40-455f-a762-0f263257608b",
   "metadata": {},
   "source": [
    "**Гипотеза:** линеаризованные лайки внутри групп 1 и 2 разные<br>\n",
    "**Нулевая гипотеза:** линеаризованные лайки внутри групп равны<br>\n",
    "**Альтернативная гипотеза:** линеаризованные лайки внутри групп отличаются<br>\n",
    "**Пороговое значение p-value:** 0.05"
   ]
  },
  {
   "cell_type": "code",
   "execution_count": 67,
   "id": "395070c1-8533-48d1-8b1b-7041d74eb48a",
   "metadata": {},
   "outputs": [
    {
     "name": "stdout",
     "output_type": "stream",
     "text": [
      "Отличие покрасилось, p_value = 2.176974475648723e-16\n"
     ]
    }
   ],
   "source": [
    "# Параметрчиеский t-тест\n",
    "p_value11 = stats.ttest_ind(df[df.exp_group == 1].linearized_likes,\n",
    "                df[df.exp_group == 2].linearized_likes,\n",
    "                equal_var = False,\n",
    "                alternative = 'two-sided')[1]\n",
    "print('Отличие не покрасилось, p_value = ' + str(p_value11) if p_value > 0.05\n",
    "      else 'Отличие покрасилось, p_value = ' + str(p_value11))"
   ]
  },
  {
   "cell_type": "code",
   "execution_count": 68,
   "id": "973b93c9-e58f-462f-8fa7-2030796a361e",
   "metadata": {},
   "outputs": [
    {
     "name": "stdout",
     "output_type": "stream",
     "text": [
      "Отличие покрасилось, p_value = 2.79747250668264e-25\n"
     ]
    }
   ],
   "source": [
    "# Непараметрический тест Манна-Уитни\n",
    "p_value12 = stats.mannwhitneyu(df[df.exp_group == 1].linearized_likes,\n",
    "                   df[df.exp_group == 2].linearized_likes,\n",
    "                   alternative='two-sided')[1]\n",
    "print('Отличие не покрасилось, p_value = ' + str(p_value12) if p_value > 0.05\n",
    "      else 'Отличие покрасилось, p_value = ' + str(p_value12))"
   ]
  },
  {
   "cell_type": "markdown",
   "id": "2d51da24-866e-4d93-93e7-b379cfaa3c16",
   "metadata": {},
   "source": [
    "Тесты показали, что статистически значимой разницы между группами нет - они одинаковы"
   ]
  },
  {
   "cell_type": "code",
   "execution_count": 71,
   "id": "72307026-bd46-4ec7-ac30-7967a77b0153",
   "metadata": {},
   "outputs": [
    {
     "name": "stdout",
     "output_type": "stream",
     "text": [
      "p_value после t-теста стало меньше в 427512.99475332635 раз\n",
      "p_value после теста Манна-Уитни стало больше в 6906368320.683171 раз\n"
     ]
    }
   ],
   "source": [
    "# Сравним p_value у обычного пользовательского ctr и линеаризованных лайков\n",
    "\n",
    "print('p_value после t-теста стало меньше в ' + str(p_value01 / p_value11) + ' раз')\n",
    "print('p_value после теста Манна-Уитни стало больше в ' + str(p_value12 / p_value02) + ' раз')"
   ]
  },
  {
   "cell_type": "markdown",
   "id": "3ac54076-d1e4-49c4-ade0-2df4fd37abc5",
   "metadata": {},
   "source": [
    "## Вывод:"
   ]
  },
  {
   "cell_type": "markdown",
   "id": "bbe1ed96-5579-489c-9653-9a7d6c777458",
   "metadata": {},
   "source": [
    "Метод линеаризованных лайков повысил чувствительность t-теста в разы: p_value действительно уменьшалось, однако чувствительность теста Манна-Уитни была ухудшена"
   ]
  }
 ],
 "metadata": {
  "kernelspec": {
   "display_name": "Python 3 (ipykernel)",
   "language": "python",
   "name": "python3"
  },
  "language_info": {
   "codemirror_mode": {
    "name": "ipython",
    "version": 3
   },
   "file_extension": ".py",
   "mimetype": "text/x-python",
   "name": "python",
   "nbconvert_exporter": "python",
   "pygments_lexer": "ipython3",
   "version": "3.8.10"
  }
 },
 "nbformat": 4,
 "nbformat_minor": 5
}
