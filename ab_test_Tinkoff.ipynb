{
 "cells": [
  {
   "cell_type": "markdown",
   "id": "96ac1922",
   "metadata": {
    "id": "96ac1922"
   },
   "source": [
    "# A/B тест №1"
   ]
  },
  {
   "cell_type": "markdown",
   "id": "511f9e19",
   "metadata": {},
   "source": [
    "**Контекст** <br>\n",
    "Мы считаем, что наш продукт достаточно дорогой для клиента.<br>\n",
    "У нас есть гипотеза, что уменьшение цены продукта позволит повысить частоту продаж и суммарно увеличит доходность продукта.<br>\n",
    "**Тест**<br>\n",
    "Мы проводим тест, в рамках которого контролем является<br>\n",
    "продажа продукта со старой ценой, а тестом - продажа продукта с новой ценой.<br>\n",
    "Целью этого теста является проверка гипотезы роста доходности нашего продукта из-за уменьшения тарифа.<br>\n",
    "**Статистические вводные**<br>\n",
    "Уровень значимости 5%.<br>\n",
    "Мы хотели бы различать 5%-ное<br>\n",
    "изменение целевой метрики<br>\n",
    "с вероятностью 80%."
   ]
  },
  {
   "cell_type": "markdown",
   "id": "239a7022",
   "metadata": {},
   "source": [
    "**Описание данных** <br>\n",
    "\n",
    "Процесс продажи устроен следующим образом:<br>\n",
    "\n",
    "- создаётся задание на звонок человеку;<br>\n",
    "- оператор берёт задание и пытается дозвониться до человека;<br>\n",
    "- если не дозванивается, мы несём некоторые затраты на время оператора и поддержку инфраструктуры;<br>\n",
    "- если дозванивается, пытается продать наш продукт;<br>\n",
    "- если продал, мы имеем некоторый заработок (PV) и повышенные расходы (в том числе на вознаграждение оператора).<br>\n",
    "\n",
    "Описание колонок в исторических данных.<br>\n",
    "\n",
    "- ID - номер задания на звонок<br>\n",
    "- Флаг дозвона - 1 если в рамках задания мы дозвонились человеку, иначе 0<br>\n",
    "- Флаг продажи - 1 если в рамках задания мы продали наш продукт человеку, иначе 0<br>\n",
    "- Расходы - сумма затрат на задание<br>\n",
    "- PV - 0 если мы не продали наш продукт, иначе = PV проданного продукта<br>\n",
    "- NPV = PV - Расходы"
   ]
  },
  {
   "cell_type": "markdown",
   "id": "0dd4c840",
   "metadata": {
    "id": "0dd4c840"
   },
   "source": [
    "### 1. Выбираем метрику и приводим аргументацию."
   ]
  },
  {
   "cell_type": "markdown",
   "id": "bd5ebff2",
   "metadata": {
    "id": "vG7kmtMEjHOU"
   },
   "source": [
    "**Метрика - NPV** - наиболее показательный параметр дохода, в который заложены все риски недозвона или отказа от покупки продукта <br>\n",
    "\n",
    "**Аргументация**: NPV учитывает все доходы и расходы, связанные с продуктом, в том числе прямые и косвенные затраты. Если мы уменьшим цену продукта, то мы можем увеличить его частоту продаж, но это может привести к увеличению затрат на производство, маркетинг и т.д. NPV учитывает все эти затраты и помогает нам оценить, будет ли уменьшение цены продукта действительно прибыльным. <br>\n",
    "<br>\n",
    "Также NPV позволяет нам увидеть долгосрочный эффект изменения цены продукта. Уменьшение цены продукта может привести к увеличению продаж в краткосрочной перспективе, но может также привести к снижению ценности бренда в долгосрочной перспективе. NPV помогает нам оценить, как изменение цены продукта повлияет на его доходность в долгосрочной перспективе и принять обоснованное решение."
   ]
  },
  {
   "cell_type": "markdown",
   "id": "b644cd0a",
   "metadata": {
    "id": "b644cd0a"
   },
   "source": [
    "### 2. Альтернатива в критерии."
   ]
  },
  {
   "cell_type": "markdown",
   "id": "28566a24",
   "metadata": {
    "id": "KFMpcB0mjJXN"
   },
   "source": [
    "По условию задачи у нас есть предпочтения, что мы хотим выявить только рост доходности нашего продукта из-за уменьшения тарифа, значит используем одностороннюю альтернативу <br>\n",
    "<br>\n",
    "Её использование позволяет уменьшить вероятность ложноположительных результатов, т.е. ошибочно считать, что изменение тарифа привело к увеличению доходности продукта, когда на самом деле это не так. Если мы используем двустороннюю альтернативу, то мы должны рассматривать оба направления изменения метрики, что увеличивает вероятность получения ложноположительных результатов. <br>\n",
    "<br>\n",
    "Кроме того, использование односторонней альтернативы может помочь нам сфокусироваться на наших целях и получить более четкие и практически значимые результаты. Если мы заранее знаем, что наша гипотеза заключается только в увеличении доходности от изменения тарифа, то мы можем использовать эту информацию для более эффективного проведения А/В теста и более точной оценки его результатов."
   ]
  },
  {
   "cell_type": "markdown",
   "id": "727aefc4",
   "metadata": {
    "id": "727aefc4"
   },
   "source": [
    "### 3. Каков размер выборки? Приводим аргументацию."
   ]
  },
  {
   "cell_type": "markdown",
   "id": "19cb8afa",
   "metadata": {},
   "source": [
    "Как было сказано выше - используем одностороннюю альтернативу. Для нее размер выборки вычисляется по формуле\n",
    "<a href=\"https://ibb.co/C9gxWgz\"><img src=\"https://i.ibb.co/Ydmvbm3/image.png\" alt=\"image\" border=\"0\"></a>\n",
    "где <br>\n",
    "sigma^2 - выборочная дисперсия у NPV <br>\n",
    "z - квантили распределения <br>\n",
    "d - MDE - минимальный ожидаемый эффект, вычсиляемый по формуле: d = uplift * npv_mean <br>\n",
    "\n",
    "Ниже приведен код, вычисляющий размер выборки по формуле"
   ]
  },
  {
   "cell_type": "code",
   "execution_count": 10,
   "id": "fYijOurfjLNp",
   "metadata": {
    "id": "fYijOurfjLNp"
   },
   "outputs": [],
   "source": [
    "import pandas as pd\n",
    "from scipy import stats\n",
    "import seaborn as sns\n",
    "\n",
    "# Данные\n",
    "df = pd.read_csv('hist_telesales.csv', sep=',')\n",
    "\n",
    "# Данные из условия\n",
    "alpha = 0.05\n",
    "uplift = 0.05\n",
    "beta = 0.2 # 1 - 0.8\n",
    "\n",
    "# Среднее NPV\n",
    "npv_mean = df.NPV.mean() #281.45\n",
    "\n",
    "# Минимальный ожидаемый эффект — это наименьший истинный эффект полученный от изменений, \n",
    "# который с уверенностью сможет обнаружить статистический критерий.\n",
    "mde = uplift * npv_mean # 14.07\n",
    "\n",
    "# Дисперсия\n",
    "var = df.NPV.var() # 459229.7\n",
    "\n",
    "# Размер выборки:\n",
    "n = (2 * var * (stats.norm.ppf(0.95) - stats.norm.ppf(0.2))**2) / mde ** 2 # 28671.8"
   ]
  },
  {
   "cell_type": "markdown",
   "id": "f1d0d478",
   "metadata": {},
   "source": [
    "Данные из условия <br>\n",
    "alpha = 0.05 - вероятность ошибки первого рода <br>\n",
    "uplift = 0.05 <br>\n",
    "beta = 0.2 - вероятность ошибки второго рода <br>\n",
    "<br>\n",
    "npv_mean: среднее выборочное NPV, равно 281.45 <br>\n",
    "mde = uplift * npv_mean: MDE, равно 14.07 <br>\n",
    "var: выборочная дисперсия NPV, равно 459229.7 <br>\n",
    "n = 28671.8, округляем до 28672"
   ]
  },
  {
   "cell_type": "markdown",
   "id": "22e2d9b0",
   "metadata": {
    "id": "22e2d9b0"
   },
   "source": [
    "### 4. Принятие решения. Подробно с аргументами."
   ]
  },
  {
   "cell_type": "code",
   "execution_count": 11,
   "id": "93d5558e",
   "metadata": {
    "id": "C9NO-_o3jON1"
   },
   "outputs": [
    {
     "data": {
      "text/plain": [
       "<AxesSubplot:ylabel='Count'>"
      ]
     },
     "execution_count": 11,
     "metadata": {},
     "output_type": "execute_result"
    },
    {
     "data": {
      "image/png": "[encoded data removed]",
      "text/plain": [
       "<Figure size 640x480 with 1 Axes>"
      ]
     },
     "metadata": {},
     "output_type": "display_data"
    }
   ],
   "source": [
    "# Данные контроля и теста\n",
    "df_control = pd.read_csv('Контроль.csv', sep=',')\n",
    "df_test = pd.read_csv('Тест.csv', sep=',')\n",
    "\n",
    "# Проверка нормальности средних\n",
    "\n",
    "sample_means_control = []\n",
    "sample_means_test = []\n",
    "\n",
    "for i in range(10000):\n",
    "    sample_control = df_control.NPV.sample(frac=1, replace=True)\n",
    "    sample_test = df_test.NPV.sample(frac=1, replace=True)\n",
    "    sample_means_control.append(sample_control.mean())\n",
    "    sample_means_test.append(sample_test.mean())\n",
    "    \n",
    "sns.histplot(sample_means_control, color = 'red', alpha = 0.5)\n",
    "sns.histplot(sample_means_test, alpha = 0.5)"
   ]
  },
  {
   "cell_type": "markdown",
   "id": "8eee881c",
   "metadata": {},
   "source": [
    "Как мы видим на графике - средние распределены нормально, причем распределение теста смещено вправо относительно распределения контроля, что является звоночком для подтверждения гипотезы роста доходности нашего продукта из-за уменьшения тарифа. Но сначала в этом убедимся t-тестом, который должен хорошо отработать ввиду нормальности средних. <br>\n",
    "\n",
    "**Гипотеза:** доходность нашего продукта вырастет из-за уменьшения тарифа <br>\n",
    "**Нулевая гипотеза:** уменьшение цены не увеличит доходность продукта<br>\n",
    "**Альтернативная гипотеза:** уменьшение цены увеличит доходность продукта<br>\n",
    "**Пороговое значение p-value:** 0.05 "
   ]
  },
  {
   "cell_type": "code",
   "execution_count": 17,
   "id": "6d53f27d",
   "metadata": {},
   "outputs": [
    {
     "name": "stdout",
     "output_type": "stream",
     "text": [
      "p_value = 0.00076 => Отклоняем нулевую гипотезу о том, что уменьшение цены не увеличит доходность продукта\n"
     ]
    }
   ],
   "source": [
    "# Проверка параметрическим t-тестом\n",
    "p_value = stats.ttest_ind(df_control.NPV,\n",
    "                         df_test.NPV,\n",
    "                         equal_var=False,\n",
    "                         alternative='less')[1]\n",
    "print(f'p_value = {round(p_value,5)} => Отклоняем нулевую гипотезу о том, что уменьшение цены не увеличит доходность продукта'\n",
    "      if p_value < alpha \n",
    "      else f'p_value = {round(p_value,5)} => Принимаем нулевую гипотезу о том, что уменьшение цены не увеличит'\n",
    "      'доходность продукта')"
   ]
  },
  {
   "cell_type": "markdown",
   "id": "ff78dc2a",
   "metadata": {},
   "source": [
    "**Вывод:** p_value оказался меньше уровня значимости 0.05, значит принимаем алтернативную гипотезу о том, что уменьшение цены увеличит доходность продукта, то есть изменения в продукте делать будем для всех пользователей!"
   ]
  },
  {
   "cell_type": "markdown",
   "id": "f9e15111",
   "metadata": {
    "id": "f9e15111"
   },
   "source": [
    "------------------"
   ]
  },
  {
   "cell_type": "markdown",
   "id": "7ea196b1",
   "metadata": {
    "id": "7ea196b1"
   },
   "source": [
    "# A/B тест №2"
   ]
  },
  {
   "cell_type": "markdown",
   "id": "8c20a7b0",
   "metadata": {},
   "source": [
    "**Контекст** <br>\n",
    "ЦБ смягчило правило, ограничивающее варианты продажи услуги.\n",
    "Мы хотим попробовать\n",
    "более агрессивную продажу услуги,\n",
    "но боимся,\n",
    "что это повлияет на экономику основного продукта (КК)\n",
    "из-за негатива клиентов.\n",
    "\n",
    "**Тест** <br>\n",
    "Мы проводим тест,\n",
    "в рамках которого мы разбиваем весь поток\n",
    "на две части рановероятно,\n",
    "где одной части (контролю) \n",
    "мы будем предлагать услугу текущим способом,\n",
    "а второй части (тесту) \n",
    "новым более агрессивным способом.\n",
    "Целью этого теста \n",
    "является увеличение доходности КК + услуги.\n",
    "\n",
    "**Статистические вводные**<br>\n",
    "- Проверка однородности выбранного параметра осуществяется с уровнем значимости 2%.\n",
    "- Уровень значимости 5%.\n",
    "- Мы хотели бы различать 3%-ное изменение целевой метрикис вероятностью 85%."
   ]
  },
  {
   "cell_type": "markdown",
   "id": "6256965f",
   "metadata": {},
   "source": [
    "**Описание данных** <br>\n",
    "\n",
    "Процесс оформления кредитной карты (КК) устроен следующим образом: <br>\n",
    "\n",
    "- человек заходит на сайт и заполняет информацию о себе (в том числе возраст и доход клиента) для получения кредитной карты;\n",
    "- человек проходит скоринг (в том числе в рамках которого оценивается вероятность банкротства клиента);\n",
    "- создаётся заявка на оформление кредитной карты;\n",
    "- человеку выпускается виртуальная карта, а также предлагается наша услуга к этому счёту;\n",
    "- с некоторой вероятностью человек утилизирует счёт (начинает им пользоваться);\n",
    "- если человек не утилизирует счёт, мы несём некоторые затраты на время оператора и поддержку инфраструктуры;\n",
    "- если человек утилизировал карту, мы имеем некоторый заработок (PV) и повышенные расходы.\n",
    "\n",
    "Описание колонок в исторических данных.<br>\n",
    "\n",
    "- ID - номер заявки, прошедшей скоринг\n",
    "- Возраст - возраст клиента, указанный при оформлении КК\n",
    "- Доход клиента - доход клиента, указанный при оформлении КК\n",
    "- Вероятность банкротства - оценка вероятности банкротства клиента, полученная с помощью скоринга по параметрам клиента\n",
    "- Флаг утилизация счёта - совершение первой расходной операции на счёте КК\n",
    "- Расходы - сумма затрат на заявку\n",
    "- PV КК - 0 если счёт не утилизирован, иначе = PV кредитной карты\n",
    "- PV услуги - 0 если счёт не утилизирован, иначе = PV этой услуги\n",
    "- NPV = PV КК + PV услуги - Расходы"
   ]
  },
  {
   "cell_type": "markdown",
   "id": "e4691844",
   "metadata": {
    "id": "e4691844"
   },
   "source": [
    "### 1. Выбираем метрику и приводим аргументацию."
   ]
  },
  {
   "cell_type": "markdown",
   "id": "724b35be",
   "metadata": {
    "id": "Q3Zae2tSjQFW"
   },
   "source": [
    "**Метрика - NPV** - наиболее показательный параметр дохода, как и в прошлом задании <br>\n",
    "\n",
    "**Аргументация**: При проведении теста мы можем оценить NPV как для контрольной группы, которой будем продавать услугу текущим способом, так и для тестовой группы, которой будем продавать услугу более агрессивным способом. Сравнивая эти значения, мы сможем оценить, какой из способов продажи услуги приводит к более высокой доходности для КК и услуги в целом."
   ]
  },
  {
   "cell_type": "markdown",
   "id": "e36b594c",
   "metadata": {
    "id": "e36b594c"
   },
   "source": [
    "### 2. Альтернатива в критерии."
   ]
  },
  {
   "cell_type": "markdown",
   "id": "477703a5",
   "metadata": {
    "id": "pBmniztEjRQP"
   },
   "source": [
    "По условию задачи у нас есть предпочтения, что мы хотим выявить только увеличение доходности КК + услуги, значит используем одностороннюю альтернативу <br>\n",
    "<br>\n",
    "Её использование позволяет уменьшить вероятность ложноположительных результатов, т.е. ошибочно считать, что изменение способа продавания услуги привело к увеличению доходности продукта, когда на самом деле это не так. Если мы используем двустороннюю альтернативу, то мы должны рассматривать оба направления изменения метрики, что увеличивает вероятность получения ложноположительных результатов. <br>\n",
    "<br>\n",
    "Кроме того, использование односторонней альтернативы может помочь нам сфокусироваться на наших целях и получить более четкие и практически значимые результаты. Если мы заранее знаем, что наша гипотеза заключается только в увеличении доходности КК + услуги от изменения тарифа, то мы можем использовать эту информацию для более эффективного проведения А/В теста и более точной оценки его результатов."
   ]
  },
  {
   "cell_type": "markdown",
   "id": "692b97f3",
   "metadata": {
    "id": "692b97f3"
   },
   "source": [
    "### 3. Выбираем параметр(-ы), влияющий(-ие) на целевую метрику."
   ]
  },
  {
   "cell_type": "markdown",
   "id": "b87dff8e",
   "metadata": {},
   "source": [
    "Параметр для проверки однородности стоит выбирать только из тех, что доступны до прохода человека по процессу заявки (соц-дем, параметры скоринга) <br>\n",
    "Нужно выбрать тот параметр, от которого сильнее всего зависит целевая для теста метрика (к примеру, это можно определить по корреляции по историческим данным). <br>\n",
    "С помощью корреляции Спирмена найдем нужный параметр:"
   ]
  },
  {
   "cell_type": "code",
   "execution_count": 22,
   "id": "4bYv6W9ljUEg",
   "metadata": {
    "id": "4bYv6W9ljUEg"
   },
   "outputs": [
    {
     "name": "stdout",
     "output_type": "stream",
     "text": [
      "0.006404489801010866 0.7582683550341586 -0.15008798233638915\n"
     ]
    }
   ],
   "source": [
    "print(\n",
    "    df.NPV.corr(df['Возраст'],method='spearman'), \n",
    "    df.NPV.corr(df['Флаг утилизации счёта'],method='spearman'), \n",
    "    df.NPV.corr(df['Вероятность банкротства'], method='spearman'))"
   ]
  },
  {
   "cell_type": "markdown",
   "id": "982c5a63",
   "metadata": {},
   "source": [
    "В качестве параметра, влияющего на целевую метрику возьмем \"Флаг утилизации счёта\" - у него сильная корреляция с NPV"
   ]
  },
  {
   "cell_type": "markdown",
   "id": "9b40ecbb",
   "metadata": {
    "id": "9b40ecbb"
   },
   "source": [
    "### 4. Каков размер выборки? Приводим аргументацию."
   ]
  },
  {
   "cell_type": "markdown",
   "id": "747b348f",
   "metadata": {
    "id": "tk7WBLvmjSnM"
   },
   "source": [
    "Как было сказано выше - используем одностороннюю альтернативу. Для нее размер выборки вычисляется по формуле\n",
    "<a href=\"https://ibb.co/C9gxWgz\"><img src=\"https://i.ibb.co/Ydmvbm3/image.png\" alt=\"image\" border=\"0\"></a>\n",
    "где <br>\n",
    "sigma^2 - выборочная дисперсия у NPV <br>\n",
    "z - квантили распределения <br>\n",
    "d - MDE - минимальный ожидаемый эффект, вычсиляемый по формуле: d = uplift * npv_mean <br>\n",
    "\n",
    "Ниже приведен код, вычисляющий размер выборки по формуле"
   ]
  },
  {
   "cell_type": "code",
   "execution_count": 18,
   "id": "ed0af639",
   "metadata": {},
   "outputs": [],
   "source": [
    "import pandas as pd\n",
    "from scipy import stats\n",
    "import seaborn as sns\n",
    "\n",
    "# Данные из условия\n",
    "alpha0 = 0.02\n",
    "alpha = 0.05\n",
    "uplift = 0.03\n",
    "beta = 0.15\n",
    "\n",
    "# Данные\n",
    "df = pd.read_csv('hist_credit_card.csv', sep=',')\n",
    "\n",
    "# Минимальный ожидаемый эффект — это наименьший истинный эффект полученный от изменений, \n",
    "# который с уверенностью сможет обнаружить статистический критерий.\n",
    "mde = uplift * npv_mean # 256.8\n",
    "\n",
    "# Дисперсия\n",
    "var = df.NPV.var() # 473437865.8\n",
    "\n",
    "# Размер выборки:\n",
    "n = (2 * var * (stats.norm.ppf(0.95) - stats.norm.ppf(0.15))**2) / mde ** 2 # 103220.9"
   ]
  },
  {
   "cell_type": "markdown",
   "id": "08cd412a",
   "metadata": {},
   "source": [
    "n = 103220.9, округляем до 103221"
   ]
  },
  {
   "cell_type": "markdown",
   "id": "f6945c8f",
   "metadata": {
    "id": "f6945c8f"
   },
   "source": [
    "### 5. Проверка на однородность, применение критерия. Принятие решения. "
   ]
  },
  {
   "cell_type": "markdown",
   "id": "2781b7b7",
   "metadata": {},
   "source": [
    "Проверим на однородность выборки, в качестве параметра мы взяли \"Флаг утилизации счёта\". Для начала попробуем визуализировать распределение:"
   ]
  },
  {
   "cell_type": "code",
   "execution_count": 23,
   "id": "b25e68e1",
   "metadata": {},
   "outputs": [
    {
     "data": {
      "text/plain": [
       "<AxesSubplot:xlabel='Флаг утилизации счёта', ylabel='Count'>"
      ]
     },
     "execution_count": 23,
     "metadata": {},
     "output_type": "execute_result"
    },
    {
     "data": {
      "image/png": "[encoded data removed]",
      "text/plain": [
       "<Figure size 640x480 with 1 Axes>"
      ]
     },
     "metadata": {},
     "output_type": "display_data"
    }
   ],
   "source": [
    "sns.histplot(data=df_control,x=df_control['Флаг утилизации счёта'], alpha = 0.5)\n",
    "sns.histplot(data=df_test,x=df_test['Флаг утилизации счёта'], color = 'red', alpha = 0.5)"
   ]
  },
  {
   "cell_type": "markdown",
   "id": "96e2d9b6",
   "metadata": {},
   "source": [
    "Как мы видим распределения почти совпадают, давайте убедимся в этом с помощью теста Андерсона-Дарлинга:"
   ]
  },
  {
   "cell_type": "code",
   "execution_count": 25,
   "id": "4e8e4bcd",
   "metadata": {},
   "outputs": [
    {
     "name": "stdout",
     "output_type": "stream",
     "text": [
      "p_value = 0.001 => Отклоняем нулевую гипотезу о том, что выборки имеют разное распределение\n"
     ]
    },
    {
     "name": "stderr",
     "output_type": "stream",
     "text": [
      "C:\\Users\\а988\\AppData\\Local\\Temp\\ipykernel_9896\\4007088701.py:8: UserWarning: p-value floored: true value smaller than 0.001\n",
      "  result = anderson_ksamp([x, y])\n"
     ]
    }
   ],
   "source": [
    "from scipy.stats import anderson_ksamp\n",
    "\n",
    "# Извлечение значений флага утилизации счета для каждой выборки\n",
    "x = df_control['Флаг утилизации счёта'].values\n",
    "y = df_test['Флаг утилизации счёта'].values\n",
    "\n",
    "# Проверка однородности выборок\n",
    "result = anderson_ksamp([x, y])\n",
    "p_value0 = result.significance_level\n",
    "\n",
    "# Вывод результата\n",
    "print(f'p_value = {round(p_value0,5)} => Отклоняем нулевую гипотезу о том, что выборки имеют разное распределение'\n",
    "      if p_value0< alpha0\n",
    "      else f'p_value = {round(p_value0,5)} => Принимаем нулевую гипотезу о том, что что выборки имеют разное распределение')"
   ]
  },
  {
   "cell_type": "markdown",
   "id": "64deafa8",
   "metadata": {},
   "source": [
    "p_value оказался меньше уровня значимости 0.02, значит выборки однородны!"
   ]
  },
  {
   "cell_type": "code",
   "execution_count": 19,
   "id": "LVlEnA4DjWp5",
   "metadata": {
    "id": "LVlEnA4DjWp5"
   },
   "outputs": [
    {
     "data": {
      "text/plain": [
       "<AxesSubplot:ylabel='Count'>"
      ]
     },
     "execution_count": 19,
     "metadata": {},
     "output_type": "execute_result"
    },
    {
     "data": {
      "image/png": "[encoded data removed]",
      "text/plain": [
       "<Figure size 640x480 with 1 Axes>"
      ]
     },
     "metadata": {},
     "output_type": "display_data"
    }
   ],
   "source": [
    "# Данные контроля и теста\n",
    "df_control = pd.read_csv('Контроль.csv', sep=',')\n",
    "df_test = pd.read_csv('Тест.csv', sep=',')\n",
    "\n",
    "# Проверка нормальности средних\n",
    "\n",
    "sample_means_control = []\n",
    "sample_means_test = []\n",
    "\n",
    "for i in range(10000):\n",
    "    sample_control = df_control.NPV.sample(frac=1, replace=True)\n",
    "    sample_test = df_test.NPV.sample(frac=1, replace=True)\n",
    "    sample_means_control.append(sample_control.mean())\n",
    "    sample_means_test.append(sample_test.mean())\n",
    "    \n",
    "sns.histplot(sample_means_control, color = 'red', alpha = 0.5)\n",
    "sns.histplot(sample_means_test, alpha = 0.5)"
   ]
  },
  {
   "cell_type": "markdown",
   "id": "5be893f3",
   "metadata": {},
   "source": [
    "Как мы видим на графике - средние распределены нормально, причем распределение теста смещено вправо относительно распределения контроля, что является опять звоночком для подтверждения гипотезы роста доходности нашего продукта из-за более агрессивного способа. Но сначала в этом убедимся t-тестом, который должен хорошо отработать ввиду нормальности средних. <br>\n",
    "\n",
    "**Гипотеза:** увеличение доходности КК + услуги из-за предложения более агрессивным способом <br>\n",
    "**Нулевая гипотеза:** новый способ не увеличит доходность КК + услуги<br>\n",
    "**Альтернативная гипотеза:** новый способ увеличит доходность КК + услуги<br>\n",
    "**Пороговое значение p-value:** 0.05 "
   ]
  },
  {
   "cell_type": "code",
   "execution_count": 21,
   "id": "c696723c",
   "metadata": {},
   "outputs": [
    {
     "name": "stdout",
     "output_type": "stream",
     "text": [
      "p_value = 0.00576 => Отклоняем нулевую гипотезу о том, что новый способ не увеличит доходность КК + услуги\n"
     ]
    }
   ],
   "source": [
    "p_value = stats.ttest_ind(df_control.NPV,\n",
    "                         df_test.NPV,\n",
    "                         equal_var=False,\n",
    "                         alternative='less')[1]\n",
    "print(f'p_value = {round(p_value,5)} => Отклоняем нулевую гипотезу о том, что новый способ не увеличит доходность КК + услуги'\n",
    "      if p_value < alpha \n",
    "      else f'p_value = {round(p_value,5)} => Принимаем нулевую гипотезу о том, что новый способ'\n",
    "      'не увеличит доходность КК + услуги')"
   ]
  },
  {
   "cell_type": "markdown",
   "id": "38e05fcd",
   "metadata": {},
   "source": [
    "**Вывод:** p_value оказался меньше уровня значимости 0.05, значит принимаем алтернативную гипотезу о том, что новый способ увеличит доходность КК + услуги, то есть изменения можно раскатывать на всех пользователей!"
   ]
  }
 ],
 "metadata": {
  "colab": {
   "provenance": []
  },
  "kernelspec": {
   "display_name": "Python 3 (ipykernel)",
   "language": "python",
   "name": "python3"
  },
  "language_info": {
   "codemirror_mode": {
    "name": "ipython",
    "version": 3
   },
   "file_extension": ".py",
   "mimetype": "text/x-python",
   "name": "python",
   "nbconvert_exporter": "python",
   "pygments_lexer": "ipython3",
   "version": "3.9.13"
  }
 },
 "nbformat": 4,
 "nbformat_minor": 5
}
